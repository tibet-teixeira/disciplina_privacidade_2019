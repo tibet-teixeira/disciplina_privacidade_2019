{
 "cells": [
  {
   "cell_type": "code",
   "execution_count": null,
   "metadata": {},
   "outputs": [],
   "source": [
    "def Q1(dataset):\n",
    "\n",
    "    return dataset.gross.idxmax()\n",
    "\n",
    "# #paralelo\n",
    "# def Q2(dataset):\n",
    "#     df = dataset[[\"gross\",\"language\",\"movie_title\"][:]]\n",
    "#     df.groupby(\"language\").max()\n",
    "\n",
    "# #sequencial\n",
    "# def Q3(dataset):\n",
    "#     return 0 "
   ]
  },
  {
   "cell_type": "code",
   "execution_count": null,
   "metadata": {},
   "outputs": [],
   "source": [
    "# def DadosQ2(dataset):\n",
    "#     return dataset[[\"gross\",\"language\",\"movie_title\"][:]]\n",
    "# def DadosQ3(dataset):\n",
    "#     return dataset"
   ]
  }
 ],
 "metadata": {
  "kernelspec": {
   "display_name": "Python 3",
   "language": "python",
   "name": "python3"
  },
  "language_info": {
   "codemirror_mode": {
    "name": "ipython",
    "version": 3
   },
   "file_extension": ".py",
   "mimetype": "text/x-python",
   "name": "python",
   "nbconvert_exporter": "python",
   "pygments_lexer": "ipython3",
   "version": "3.5.6"
  }
 },
 "nbformat": 4,
 "nbformat_minor": 2
}
