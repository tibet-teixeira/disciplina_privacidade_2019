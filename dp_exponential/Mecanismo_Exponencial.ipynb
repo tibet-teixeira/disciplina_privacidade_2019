{
 "cells": [
  {
   "cell_type": "code",
   "execution_count": 1,
   "metadata": {},
   "outputs": [],
   "source": [
    "import pandas as pd"
   ]
  },
  {
   "cell_type": "code",
   "execution_count": 2,
   "metadata": {},
   "outputs": [],
   "source": [
    "# Import\n",
    "dataset = pd.read_csv(\"movie_metadata.csv\")"
   ]
  },
  {
   "cell_type": "code",
   "execution_count": null,
   "metadata": {},
   "outputs": [],
   "source": [
    "#Preparar Dados para Questoes\n",
    "def DadosQ1(dataset):\n",
    "    return dataset[[\"gross\",\"movie_title\"][:]]\n",
    "def DadosQ2(dataset):\n",
    "    return dataset[[\"gross\",\"language\",\"movie_title\"][:]]\n",
    "def DadosQ3(dataset):\n",
    "    "
   ]
  },
  {
   "cell_type": "code",
   "execution_count": 4,
   "metadata": {},
   "outputs": [],
   "source": [
    "# Funcoes\n",
    "\n",
    "#sequencial\n",
    "def Q1(dataset):\n",
    "    return dataset.gross.idxmax()\n",
    "\n",
    "def Q2(dataset):\n",
    "    df = dataset[[\"gross\",\"language\",\"movie_title\"][:]]\n",
    "    df.groupby(\"language\").max()\n",
    "    \n",
    "def Q3(dataset):\n",
    "    return 0 "
   ]
  },
  {
   "cell_type": "code",
   "execution_count": 8,
   "metadata": {},
   "outputs": [],
   "source": [
    "def PossiveisSaidasQ1(dataset):\n",
    "    return dataset.movie_title.unique"
   ]
  },
  {
   "cell_type": "code",
   "execution_count": 12,
   "metadata": {},
   "outputs": [],
   "source": [
    "def ScoreQ1(dataset, linha, saida):\n",
    "    return dataset.iloc[linha][\"gross\"]"
   ]
  },
  {
   "cell_type": "code",
   "execution_count": 15,
   "metadata": {},
   "outputs": [
    {
     "data": {
      "text/plain": [
       "760505847.0"
      ]
     },
     "execution_count": 15,
     "metadata": {},
     "output_type": "execute_result"
    }
   ],
   "source": [
    "def SensibilidadeQ1(dataset):\n",
    "    valores = []\n",
    "    for i in range(dataset.shape[0]):\n",
    "        abs(ScoreQ1(dataset,i,0))\n",
    "        valores.append( ScoreQ1(dataset,i,0) )\n",
    "    return max(valores)\n",
    "SensibilidadeQ1(dataset)"
   ]
  },
  {
   "cell_type": "code",
   "execution_count": 16,
   "metadata": {},
   "outputs": [
    {
     "data": {
      "text/plain": [
       "color                                                                    Color\n",
       "director_name                                                    James Cameron\n",
       "num_critic_for_reviews                                                     723\n",
       "duration                                                                   178\n",
       "director_facebook_likes                                                      0\n",
       "actor_3_facebook_likes                                                     855\n",
       "actor_2_name                                                  Joel David Moore\n",
       "actor_1_facebook_likes                                                    1000\n",
       "gross                                                              7.60506e+08\n",
       "genres                                         Action|Adventure|Fantasy|Sci-Fi\n",
       "actor_1_name                                                       CCH Pounder\n",
       "movie_title                                                            Avatar \n",
       "num_voted_users                                                         886204\n",
       "cast_total_facebook_likes                                                 4834\n",
       "actor_3_name                                                         Wes Studi\n",
       "facenumber_in_poster                                                         0\n",
       "plot_keywords                           avatar|future|marine|native|paraplegic\n",
       "movie_imdb_link              http://www.imdb.com/title/tt0499549/?ref_=fn_t...\n",
       "num_user_for_reviews                                                      3054\n",
       "language                                                               English\n",
       "country                                                                    USA\n",
       "content_rating                                                           PG-13\n",
       "budget                                                                2.37e+08\n",
       "title_year                                                                2009\n",
       "actor_2_facebook_likes                                                     936\n",
       "imdb_score                                                                 7.9\n",
       "aspect_ratio                                                              1.78\n",
       "movie_facebook_likes                                                     33000\n",
       "Name: 0, dtype: object"
      ]
     },
     "execution_count": 16,
     "metadata": {},
     "output_type": "execute_result"
    }
   ],
   "source": [
    "def exponencialQ1(dataset):\n",
    "    "
   ]
  }
 ],
 "metadata": {
  "kernelspec": {
   "display_name": "Python 3",
   "language": "python",
   "name": "python3"
  },
  "language_info": {
   "codemirror_mode": {
    "name": "ipython",
    "version": 3
   },
   "file_extension": ".py",
   "mimetype": "text/x-python",
   "name": "python",
   "nbconvert_exporter": "python",
   "pygments_lexer": "ipython3",
   "version": "3.6.9"
  }
 },
 "nbformat": 4,
 "nbformat_minor": 2
}
