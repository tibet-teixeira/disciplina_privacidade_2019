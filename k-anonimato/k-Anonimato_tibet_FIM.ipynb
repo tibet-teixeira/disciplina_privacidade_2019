{
 "cells": [
  {
   "cell_type": "markdown",
   "metadata": {},
   "source": [
    "### TODO: realizar generalização na copia do dataset e nao na referencia"
   ]
  },
  {
   "cell_type": "code",
   "execution_count": 1,
   "metadata": {},
   "outputs": [],
   "source": [
    "import random as rdm\n",
    "import pandas as pd\n",
    "import numpy as np"
   ]
  },
  {
   "cell_type": "code",
   "execution_count": 2,
   "metadata": {},
   "outputs": [
    {
     "data": {
      "text/html": [
       "<div>\n",
       "<style scoped>\n",
       "    .dataframe tbody tr th:only-of-type {\n",
       "        vertical-align: middle;\n",
       "    }\n",
       "\n",
       "    .dataframe tbody tr th {\n",
       "        vertical-align: top;\n",
       "    }\n",
       "\n",
       "    .dataframe thead th {\n",
       "        text-align: right;\n",
       "    }\n",
       "</style>\n",
       "<table border=\"1\" class=\"dataframe\">\n",
       "  <thead>\n",
       "    <tr style=\"text-align: right;\">\n",
       "      <th></th>\n",
       "      <th>id</th>\n",
       "      <th>pais</th>\n",
       "      <th>estado</th>\n",
       "      <th>cidade</th>\n",
       "      <th>genero</th>\n",
       "      <th>data</th>\n",
       "      <th>salario</th>\n",
       "    </tr>\n",
       "  </thead>\n",
       "  <tbody>\n",
       "    <tr>\n",
       "      <th>0</th>\n",
       "      <td>1</td>\n",
       "      <td>United States</td>\n",
       "      <td>Alabama</td>\n",
       "      <td>Mobile</td>\n",
       "      <td>Male</td>\n",
       "      <td>10/01/1987</td>\n",
       "      <td>$5407.86</td>\n",
       "    </tr>\n",
       "    <tr>\n",
       "      <th>1</th>\n",
       "      <td>2</td>\n",
       "      <td>Portugal</td>\n",
       "      <td>Porto</td>\n",
       "      <td>Rego</td>\n",
       "      <td>Male</td>\n",
       "      <td>29/11/2007</td>\n",
       "      <td>$7833.82</td>\n",
       "    </tr>\n",
       "    <tr>\n",
       "      <th>2</th>\n",
       "      <td>3</td>\n",
       "      <td>Sweden</td>\n",
       "      <td>Kalmar</td>\n",
       "      <td>Emmaboda</td>\n",
       "      <td>Male</td>\n",
       "      <td>23/06/1984</td>\n",
       "      <td>$5530.85</td>\n",
       "    </tr>\n",
       "    <tr>\n",
       "      <th>3</th>\n",
       "      <td>4</td>\n",
       "      <td>Sweden</td>\n",
       "      <td>Västmanland</td>\n",
       "      <td>Sala</td>\n",
       "      <td>Female</td>\n",
       "      <td>04/11/1983</td>\n",
       "      <td>$2803.76</td>\n",
       "    </tr>\n",
       "    <tr>\n",
       "      <th>4</th>\n",
       "      <td>5</td>\n",
       "      <td>France</td>\n",
       "      <td>Bretagne</td>\n",
       "      <td>Quimperlé</td>\n",
       "      <td>Female</td>\n",
       "      <td>18/11/1990</td>\n",
       "      <td>$2201.87</td>\n",
       "    </tr>\n",
       "  </tbody>\n",
       "</table>\n",
       "</div>"
      ],
      "text/plain": [
       "   id           pais       estado     cidade  genero        data   salario\n",
       "0   1  United States      Alabama     Mobile    Male  10/01/1987  $5407.86\n",
       "1   2       Portugal        Porto       Rego    Male  29/11/2007  $7833.82\n",
       "2   3         Sweden       Kalmar   Emmaboda    Male  23/06/1984  $5530.85\n",
       "3   4         Sweden  Västmanland       Sala  Female  04/11/1983  $2803.76\n",
       "4   5         France     Bretagne  Quimperlé  Female  18/11/1990  $2201.87"
      ]
     },
     "execution_count": 2,
     "metadata": {},
     "output_type": "execute_result"
    }
   ],
   "source": [
    "df = pd.read_csv(\"salario.csv\")\n",
    "df.head()"
   ]
  },
  {
   "cell_type": "code",
   "execution_count": 3,
   "metadata": {},
   "outputs": [
    {
     "data": {
      "text/html": [
       "<div>\n",
       "<style scoped>\n",
       "    .dataframe tbody tr th:only-of-type {\n",
       "        vertical-align: middle;\n",
       "    }\n",
       "\n",
       "    .dataframe tbody tr th {\n",
       "        vertical-align: top;\n",
       "    }\n",
       "\n",
       "    .dataframe thead th {\n",
       "        text-align: right;\n",
       "    }\n",
       "</style>\n",
       "<table border=\"1\" class=\"dataframe\">\n",
       "  <thead>\n",
       "    <tr style=\"text-align: right;\">\n",
       "      <th></th>\n",
       "      <th>id</th>\n",
       "    </tr>\n",
       "  </thead>\n",
       "  <tbody>\n",
       "    <tr>\n",
       "      <th>count</th>\n",
       "      <td>1000.000000</td>\n",
       "    </tr>\n",
       "    <tr>\n",
       "      <th>mean</th>\n",
       "      <td>500.500000</td>\n",
       "    </tr>\n",
       "    <tr>\n",
       "      <th>std</th>\n",
       "      <td>288.819436</td>\n",
       "    </tr>\n",
       "    <tr>\n",
       "      <th>min</th>\n",
       "      <td>1.000000</td>\n",
       "    </tr>\n",
       "    <tr>\n",
       "      <th>25%</th>\n",
       "      <td>250.750000</td>\n",
       "    </tr>\n",
       "    <tr>\n",
       "      <th>50%</th>\n",
       "      <td>500.500000</td>\n",
       "    </tr>\n",
       "    <tr>\n",
       "      <th>75%</th>\n",
       "      <td>750.250000</td>\n",
       "    </tr>\n",
       "    <tr>\n",
       "      <th>max</th>\n",
       "      <td>1000.000000</td>\n",
       "    </tr>\n",
       "  </tbody>\n",
       "</table>\n",
       "</div>"
      ],
      "text/plain": [
       "                id\n",
       "count  1000.000000\n",
       "mean    500.500000\n",
       "std     288.819436\n",
       "min       1.000000\n",
       "25%     250.750000\n",
       "50%     500.500000\n",
       "75%     750.250000\n",
       "max    1000.000000"
      ]
     },
     "execution_count": 3,
     "metadata": {},
     "output_type": "execute_result"
    }
   ],
   "source": [
    "df.describe()"
   ]
  },
  {
   "cell_type": "markdown",
   "metadata": {},
   "source": [
    "## Unindo os atributos de localidade"
   ]
  },
  {
   "cell_type": "code",
   "execution_count": 4,
   "metadata": {},
   "outputs": [],
   "source": [
    "ids = df.id\n",
    "cities = df.cidade\n",
    "states = df.estado\n",
    "countries = df.pais"
   ]
  },
  {
   "cell_type": "code",
   "execution_count": 5,
   "metadata": {},
   "outputs": [],
   "source": [
    "locality = []\n",
    "for i in range(len(cities)):\n",
    "    locality.append([ids[i], str('{}, {}, {}'.format(cities[i], states[i], countries[i]))])"
   ]
  },
  {
   "cell_type": "code",
   "execution_count": 6,
   "metadata": {},
   "outputs": [
    {
     "data": {
      "text/html": [
       "<div>\n",
       "<style scoped>\n",
       "    .dataframe tbody tr th:only-of-type {\n",
       "        vertical-align: middle;\n",
       "    }\n",
       "\n",
       "    .dataframe tbody tr th {\n",
       "        vertical-align: top;\n",
       "    }\n",
       "\n",
       "    .dataframe thead th {\n",
       "        text-align: right;\n",
       "    }\n",
       "</style>\n",
       "<table border=\"1\" class=\"dataframe\">\n",
       "  <thead>\n",
       "    <tr style=\"text-align: right;\">\n",
       "      <th></th>\n",
       "      <th>id</th>\n",
       "      <th>localidade</th>\n",
       "    </tr>\n",
       "  </thead>\n",
       "  <tbody>\n",
       "    <tr>\n",
       "      <th>0</th>\n",
       "      <td>1</td>\n",
       "      <td>Mobile, Alabama, United States</td>\n",
       "    </tr>\n",
       "    <tr>\n",
       "      <th>1</th>\n",
       "      <td>2</td>\n",
       "      <td>Rego, Porto, Portugal</td>\n",
       "    </tr>\n",
       "    <tr>\n",
       "      <th>2</th>\n",
       "      <td>3</td>\n",
       "      <td>Emmaboda, Kalmar, Sweden</td>\n",
       "    </tr>\n",
       "    <tr>\n",
       "      <th>3</th>\n",
       "      <td>4</td>\n",
       "      <td>Sala, Västmanland, Sweden</td>\n",
       "    </tr>\n",
       "    <tr>\n",
       "      <th>4</th>\n",
       "      <td>5</td>\n",
       "      <td>Quimperlé, Bretagne, France</td>\n",
       "    </tr>\n",
       "  </tbody>\n",
       "</table>\n",
       "</div>"
      ],
      "text/plain": [
       "   id                      localidade\n",
       "0   1  Mobile, Alabama, United States\n",
       "1   2           Rego, Porto, Portugal\n",
       "2   3        Emmaboda, Kalmar, Sweden\n",
       "3   4       Sala, Västmanland, Sweden\n",
       "4   5     Quimperlé, Bretagne, France"
      ]
     },
     "execution_count": 6,
     "metadata": {},
     "output_type": "execute_result"
    }
   ],
   "source": [
    "df_locality = pd.DataFrame(locality, columns=['id', 'localidade'])\n",
    "df_locality.head()"
   ]
  },
  {
   "cell_type": "markdown",
   "metadata": {},
   "source": [
    "## Unindo os dataframes"
   ]
  },
  {
   "cell_type": "code",
   "execution_count": 7,
   "metadata": {},
   "outputs": [
    {
     "data": {
      "text/html": [
       "<div>\n",
       "<style scoped>\n",
       "    .dataframe tbody tr th:only-of-type {\n",
       "        vertical-align: middle;\n",
       "    }\n",
       "\n",
       "    .dataframe tbody tr th {\n",
       "        vertical-align: top;\n",
       "    }\n",
       "\n",
       "    .dataframe thead th {\n",
       "        text-align: right;\n",
       "    }\n",
       "</style>\n",
       "<table border=\"1\" class=\"dataframe\">\n",
       "  <thead>\n",
       "    <tr style=\"text-align: right;\">\n",
       "      <th></th>\n",
       "      <th>id</th>\n",
       "      <th>pais</th>\n",
       "      <th>estado</th>\n",
       "      <th>cidade</th>\n",
       "      <th>genero</th>\n",
       "      <th>data</th>\n",
       "      <th>salario</th>\n",
       "      <th>id</th>\n",
       "      <th>localidade</th>\n",
       "    </tr>\n",
       "  </thead>\n",
       "  <tbody>\n",
       "    <tr>\n",
       "      <th>0</th>\n",
       "      <td>1</td>\n",
       "      <td>United States</td>\n",
       "      <td>Alabama</td>\n",
       "      <td>Mobile</td>\n",
       "      <td>Male</td>\n",
       "      <td>10/01/1987</td>\n",
       "      <td>$5407.86</td>\n",
       "      <td>1</td>\n",
       "      <td>Mobile, Alabama, United States</td>\n",
       "    </tr>\n",
       "    <tr>\n",
       "      <th>1</th>\n",
       "      <td>2</td>\n",
       "      <td>Portugal</td>\n",
       "      <td>Porto</td>\n",
       "      <td>Rego</td>\n",
       "      <td>Male</td>\n",
       "      <td>29/11/2007</td>\n",
       "      <td>$7833.82</td>\n",
       "      <td>2</td>\n",
       "      <td>Rego, Porto, Portugal</td>\n",
       "    </tr>\n",
       "    <tr>\n",
       "      <th>2</th>\n",
       "      <td>3</td>\n",
       "      <td>Sweden</td>\n",
       "      <td>Kalmar</td>\n",
       "      <td>Emmaboda</td>\n",
       "      <td>Male</td>\n",
       "      <td>23/06/1984</td>\n",
       "      <td>$5530.85</td>\n",
       "      <td>3</td>\n",
       "      <td>Emmaboda, Kalmar, Sweden</td>\n",
       "    </tr>\n",
       "    <tr>\n",
       "      <th>3</th>\n",
       "      <td>4</td>\n",
       "      <td>Sweden</td>\n",
       "      <td>Västmanland</td>\n",
       "      <td>Sala</td>\n",
       "      <td>Female</td>\n",
       "      <td>04/11/1983</td>\n",
       "      <td>$2803.76</td>\n",
       "      <td>4</td>\n",
       "      <td>Sala, Västmanland, Sweden</td>\n",
       "    </tr>\n",
       "    <tr>\n",
       "      <th>4</th>\n",
       "      <td>5</td>\n",
       "      <td>France</td>\n",
       "      <td>Bretagne</td>\n",
       "      <td>Quimperlé</td>\n",
       "      <td>Female</td>\n",
       "      <td>18/11/1990</td>\n",
       "      <td>$2201.87</td>\n",
       "      <td>5</td>\n",
       "      <td>Quimperlé, Bretagne, France</td>\n",
       "    </tr>\n",
       "  </tbody>\n",
       "</table>\n",
       "</div>"
      ],
      "text/plain": [
       "   id           pais       estado     cidade  genero        data   salario  \\\n",
       "0   1  United States      Alabama     Mobile    Male  10/01/1987  $5407.86   \n",
       "1   2       Portugal        Porto       Rego    Male  29/11/2007  $7833.82   \n",
       "2   3         Sweden       Kalmar   Emmaboda    Male  23/06/1984  $5530.85   \n",
       "3   4         Sweden  Västmanland       Sala  Female  04/11/1983  $2803.76   \n",
       "4   5         France     Bretagne  Quimperlé  Female  18/11/1990  $2201.87   \n",
       "\n",
       "   id                      localidade  \n",
       "0   1  Mobile, Alabama, United States  \n",
       "1   2           Rego, Porto, Portugal  \n",
       "2   3        Emmaboda, Kalmar, Sweden  \n",
       "3   4       Sala, Västmanland, Sweden  \n",
       "4   5     Quimperlé, Bretagne, France  "
      ]
     },
     "execution_count": 7,
     "metadata": {},
     "output_type": "execute_result"
    }
   ],
   "source": [
    "join_dataset = pd.concat([df, df_locality], axis=1, join='inner')\n",
    "join_dataset.head()"
   ]
  },
  {
   "cell_type": "markdown",
   "metadata": {},
   "source": [
    "## Removendo atributos"
   ]
  },
  {
   "cell_type": "code",
   "execution_count": 8,
   "metadata": {},
   "outputs": [
    {
     "data": {
      "text/html": [
       "<div>\n",
       "<style scoped>\n",
       "    .dataframe tbody tr th:only-of-type {\n",
       "        vertical-align: middle;\n",
       "    }\n",
       "\n",
       "    .dataframe tbody tr th {\n",
       "        vertical-align: top;\n",
       "    }\n",
       "\n",
       "    .dataframe thead th {\n",
       "        text-align: right;\n",
       "    }\n",
       "</style>\n",
       "<table border=\"1\" class=\"dataframe\">\n",
       "  <thead>\n",
       "    <tr style=\"text-align: right;\">\n",
       "      <th></th>\n",
       "      <th>genero</th>\n",
       "      <th>data</th>\n",
       "      <th>salario</th>\n",
       "      <th>localidade</th>\n",
       "    </tr>\n",
       "  </thead>\n",
       "  <tbody>\n",
       "    <tr>\n",
       "      <th>count</th>\n",
       "      <td>1000</td>\n",
       "      <td>1000</td>\n",
       "      <td>1000</td>\n",
       "      <td>1000</td>\n",
       "    </tr>\n",
       "    <tr>\n",
       "      <th>unique</th>\n",
       "      <td>2</td>\n",
       "      <td>956</td>\n",
       "      <td>1000</td>\n",
       "      <td>769</td>\n",
       "    </tr>\n",
       "    <tr>\n",
       "      <th>top</th>\n",
       "      <td>Female</td>\n",
       "      <td>17/01/1981</td>\n",
       "      <td>$4430.56</td>\n",
       "      <td>Stockholm, Stockholm, Sweden</td>\n",
       "    </tr>\n",
       "    <tr>\n",
       "      <th>freq</th>\n",
       "      <td>542</td>\n",
       "      <td>3</td>\n",
       "      <td>1</td>\n",
       "      <td>15</td>\n",
       "    </tr>\n",
       "  </tbody>\n",
       "</table>\n",
       "</div>"
      ],
      "text/plain": [
       "        genero        data   salario                    localidade\n",
       "count     1000        1000      1000                          1000\n",
       "unique       2         956      1000                           769\n",
       "top     Female  17/01/1981  $4430.56  Stockholm, Stockholm, Sweden\n",
       "freq       542           3         1                            15"
      ]
     },
     "execution_count": 8,
     "metadata": {},
     "output_type": "execute_result"
    }
   ],
   "source": [
    "dataset = join_dataset.drop(columns = ['id', 'pais', 'estado', 'cidade'])\n",
    "dataset.describe()"
   ]
  },
  {
   "cell_type": "markdown",
   "metadata": {},
   "source": [
    "## Função de generalização da data"
   ]
  },
  {
   "cell_type": "code",
   "execution_count": 9,
   "metadata": {},
   "outputs": [],
   "source": [
    "def date_generalization(dataset, level):\n",
    "    if level == 1:\n",
    "        # date '**/MM/YYYY'\n",
    "        for data in range(len(dataset)):\n",
    "            dataset.iloc[data]['data'] = str('**' + dataset.iloc[data]['data'][2:10])\n",
    "    elif level == 2:\n",
    "        # date '**/**/YYYY'\n",
    "        for data in range(len(dataset)):\n",
    "            dataset.iloc[data]['data'] = str('**/**' + dataset.iloc[data]['data'][5:10])\n",
    "    elif level == 3:\n",
    "        # date'**/**/****'\n",
    "        for data in range(len(dataset)):\n",
    "            dataset.iloc[data]['data'] = str('**/**/****')\n",
    "        \n",
    "    return dataset"
   ]
  },
  {
   "cell_type": "code",
   "execution_count": 10,
   "metadata": {},
   "outputs": [],
   "source": [
    "def locality_generalization(dataset, level):\n",
    "    if level == 0:\n",
    "        # locality 'city'\n",
    "        for data in range(len(dataset)):\n",
    "            locais = dataset.iloc[data]['localidade'].split(',')\n",
    "            dataset.iloc[data]['localidade'] = locais[0]+\",\"+locais[1]+\",\"+locais[2]\n",
    "    elif level == 1:\n",
    "        # locality 'state,'\n",
    "        for data in range(len(dataset)):\n",
    "            locais = dataset.iloc[data]['localidade'].split(',')\n",
    "            dataset.iloc[data]['localidade'] = \"**,\"+locais[1]+\",\"+locais[2]\n",
    "    elif level == 2:\n",
    "        # locality 'country'\n",
    "        for data in range(len(dataset)):\n",
    "            locais = dataset.iloc[data]['localidade'].split(',')\n",
    "            dataset.iloc[data]['localidade'] = \"**,**,\"+locais[2]\n",
    "    elif level == 3:\n",
    "        # locality '*'\n",
    "        for data in range(len(dataset)):\n",
    "            dataset.iloc[data]['localidade'] = '**'\n",
    "        \n",
    "    return dataset"
   ]
  },
  {
   "cell_type": "code",
   "execution_count": 11,
   "metadata": {},
   "outputs": [],
   "source": [
    "def gender_generalization(dataset, level):\n",
    "    if level == 1:\n",
    "        # gender '*'\n",
    "        for data in range(len(dataset)):\n",
    "            dataset.iloc[data]['genero'] = '*'\n",
    "            \n",
    "    return dataset"
   ]
  },
  {
   "cell_type": "markdown",
   "metadata": {},
   "source": [
    "## Função de Precisão"
   ]
  },
  {
   "cell_type": "markdown",
   "metadata": {},
   "source": [
    "$precision (D, Na, h, HGVA) = 1 - \\frac{\\sum_{i=1}^{Na} \\sum_{j=1}^{|D|} \\frac{h}{HGVA_i}}{|D| * Na}\n",
    "$\n",
    "\n",
    "- D: conjunto de dados\n",
    "- Na: número de atributos semi-identificadores\n",
    "- h: altura da hierarquia de generalização de valor do atributo Ai após anonimização\n",
    "- |HGVAi|: altura máxima da hierarquia"
   ]
  },
  {
   "cell_type": "code",
   "execution_count": 12,
   "metadata": {},
   "outputs": [],
   "source": [
    "def precision(D, Na, h, HGVA):\n",
    "    summation = 0\n",
    "    for i in range(Na):\n",
    "        for j in range (D):\n",
    "            summation += (h[j] / (HGVA[i]))\n",
    "    \n",
    "    return 1 - (summation / (D * Na))\n",
    "            "
   ]
  },
  {
   "cell_type": "code",
   "execution_count": 13,
   "metadata": {},
   "outputs": [],
   "source": [
    "def soma(x,y):\n",
    "    print()"
   ]
  },
  {
   "cell_type": "markdown",
   "metadata": {},
   "source": [
    "# Gerar dados K-anonimizados"
   ]
  },
  {
   "cell_type": "code",
   "execution_count": 17,
   "metadata": {
    "scrolled": true
   },
   "outputs": [],
   "source": [
    "def anonymize(df_faltante, k):\n",
    "\n",
    "    d = {'data': [], 'genero': [], 'localidade':[], 'salario':[]}\n",
    "    df_final = pd.DataFrame(data=d)\n",
    "\n",
    "    Ordem_Generalizacoes = [(date_generalization, 1),\n",
    "                            (locality_generalization, 1),\n",
    "                            (date_generalization, 2),\n",
    "                            (locality_generalization, 2),\n",
    "                            (gender_generalization, 1),\n",
    "                            (date_generalization, 3),\n",
    "                            (locality_generalization, 3),\n",
    "                            (soma, 1)]\n",
    "    generalizações = []\n",
    "    for generalizacao_Atula in Ordem_Generalizacoes:\n",
    "\n",
    "        aux = df_faltante.groupby([\"data\",\"genero\",\"localidade\"])[\"localidade\"].count()\n",
    "\n",
    "        atributos_K_anonimizados = aux[aux >= k].index\n",
    "\n",
    "        for i in atributos_K_anonimizados:\n",
    "            data = i[0]\n",
    "            genero = i[1]\n",
    "            localidade = i[2]\n",
    "\n",
    "            indices_prontos = df_faltante[ (df_faltante['data'] == data) & (df_faltante['genero'] == genero) & (df_faltante[\"localidade\"] == localidade) ].index#[0]\n",
    "\n",
    "            df_final = df_final.append( df_faltante.iloc[indices_prontos], ignore_index = True )\n",
    "            df_faltante.drop(indices_prontos , inplace=True)\n",
    "            df_faltante = df_faltante.reset_index(drop=True)\n",
    "\n",
    "        generalizacao_Atula[0](df_faltante, generalizacao_Atula[1])\n",
    "    \n",
    "#     precision(df_final, 3, , [4, 1, 3])\n",
    "    df_final.to_csv (r'output/export_dataframe_k_' + str(k) +'.csv', index = None, header=True)\n"
   ]
  },
  {
   "cell_type": "code",
   "execution_count": 18,
   "metadata": {},
   "outputs": [
    {
     "name": "stdout",
     "output_type": "stream",
     "text": [
      "\n"
     ]
    },
    {
     "ename": "FileNotFoundError",
     "evalue": "[Errno 2] No such file or directory: 'output/export_dataframe_k_2.csv'",
     "output_type": "error",
     "traceback": [
      "\u001b[1;31m---------------------------------------------------------------------------\u001b[0m",
      "\u001b[1;31mFileNotFoundError\u001b[0m                         Traceback (most recent call last)",
      "\u001b[1;32m<ipython-input-18-c9c1af8f4d5b>\u001b[0m in \u001b[0;36m<module>\u001b[1;34m\u001b[0m\n\u001b[0;32m      1\u001b[0m \u001b[1;32mfor\u001b[0m \u001b[0mk\u001b[0m \u001b[1;32min\u001b[0m \u001b[1;33m[\u001b[0m\u001b[1;36m2\u001b[0m\u001b[1;33m,\u001b[0m \u001b[1;36m4\u001b[0m\u001b[1;33m,\u001b[0m \u001b[1;36m8\u001b[0m\u001b[1;33m,\u001b[0m \u001b[1;36m16\u001b[0m\u001b[1;33m]\u001b[0m\u001b[1;33m:\u001b[0m\u001b[1;33m\u001b[0m\u001b[1;33m\u001b[0m\u001b[0m\n\u001b[1;32m----> 2\u001b[1;33m     \u001b[0manonymize\u001b[0m\u001b[1;33m(\u001b[0m\u001b[0mdataset\u001b[0m\u001b[1;33m.\u001b[0m\u001b[0mcopy\u001b[0m\u001b[1;33m(\u001b[0m\u001b[1;33m)\u001b[0m\u001b[1;33m,\u001b[0m \u001b[0mk\u001b[0m\u001b[1;33m)\u001b[0m\u001b[1;33m\u001b[0m\u001b[1;33m\u001b[0m\u001b[0m\n\u001b[0m",
      "\u001b[1;32m<ipython-input-17-9ddfcaee8c54>\u001b[0m in \u001b[0;36manonymize\u001b[1;34m(df_faltante, k)\u001b[0m\n\u001b[0;32m     33\u001b[0m \u001b[1;33m\u001b[0m\u001b[0m\n\u001b[0;32m     34\u001b[0m \u001b[1;31m#     precision(df_final, 3, , [4, 1, 3])\u001b[0m\u001b[1;33m\u001b[0m\u001b[1;33m\u001b[0m\u001b[1;33m\u001b[0m\u001b[0m\n\u001b[1;32m---> 35\u001b[1;33m     \u001b[0mdf_final\u001b[0m\u001b[1;33m.\u001b[0m\u001b[0mto_csv\u001b[0m \u001b[1;33m(\u001b[0m\u001b[1;34mr'output/export_dataframe_k_'\u001b[0m \u001b[1;33m+\u001b[0m \u001b[0mstr\u001b[0m\u001b[1;33m(\u001b[0m\u001b[0mk\u001b[0m\u001b[1;33m)\u001b[0m \u001b[1;33m+\u001b[0m\u001b[1;34m'.csv'\u001b[0m\u001b[1;33m,\u001b[0m \u001b[0mindex\u001b[0m \u001b[1;33m=\u001b[0m \u001b[1;32mNone\u001b[0m\u001b[1;33m,\u001b[0m \u001b[0mheader\u001b[0m\u001b[1;33m=\u001b[0m\u001b[1;32mTrue\u001b[0m\u001b[1;33m)\u001b[0m\u001b[1;33m\u001b[0m\u001b[1;33m\u001b[0m\u001b[0m\n\u001b[0m",
      "\u001b[1;32m~\\AppData\\Local\\conda\\conda\\envs\\jup\\lib\\site-packages\\pandas\\core\\generic.py\u001b[0m in \u001b[0;36mto_csv\u001b[1;34m(self, path_or_buf, sep, na_rep, float_format, columns, header, index, index_label, mode, encoding, compression, quoting, quotechar, line_terminator, chunksize, tupleize_cols, date_format, doublequote, escapechar, decimal)\u001b[0m\n\u001b[0;32m   3018\u001b[0m                                  \u001b[0mdoublequote\u001b[0m\u001b[1;33m=\u001b[0m\u001b[0mdoublequote\u001b[0m\u001b[1;33m,\u001b[0m\u001b[1;33m\u001b[0m\u001b[1;33m\u001b[0m\u001b[0m\n\u001b[0;32m   3019\u001b[0m                                  escapechar=escapechar, decimal=decimal)\n\u001b[1;32m-> 3020\u001b[1;33m         \u001b[0mformatter\u001b[0m\u001b[1;33m.\u001b[0m\u001b[0msave\u001b[0m\u001b[1;33m(\u001b[0m\u001b[1;33m)\u001b[0m\u001b[1;33m\u001b[0m\u001b[1;33m\u001b[0m\u001b[0m\n\u001b[0m\u001b[0;32m   3021\u001b[0m \u001b[1;33m\u001b[0m\u001b[0m\n\u001b[0;32m   3022\u001b[0m         \u001b[1;32mif\u001b[0m \u001b[0mpath_or_buf\u001b[0m \u001b[1;32mis\u001b[0m \u001b[1;32mNone\u001b[0m\u001b[1;33m:\u001b[0m\u001b[1;33m\u001b[0m\u001b[1;33m\u001b[0m\u001b[0m\n",
      "\u001b[1;32m~\\AppData\\Local\\conda\\conda\\envs\\jup\\lib\\site-packages\\pandas\\io\\formats\\csvs.py\u001b[0m in \u001b[0;36msave\u001b[1;34m(self)\u001b[0m\n\u001b[0;32m    155\u001b[0m             f, handles = _get_handle(self.path_or_buf, self.mode,\n\u001b[0;32m    156\u001b[0m                                      \u001b[0mencoding\u001b[0m\u001b[1;33m=\u001b[0m\u001b[0mself\u001b[0m\u001b[1;33m.\u001b[0m\u001b[0mencoding\u001b[0m\u001b[1;33m,\u001b[0m\u001b[1;33m\u001b[0m\u001b[1;33m\u001b[0m\u001b[0m\n\u001b[1;32m--> 157\u001b[1;33m                                      compression=self.compression)\n\u001b[0m\u001b[0;32m    158\u001b[0m             \u001b[0mclose\u001b[0m \u001b[1;33m=\u001b[0m \u001b[1;32mTrue\u001b[0m\u001b[1;33m\u001b[0m\u001b[1;33m\u001b[0m\u001b[0m\n\u001b[0;32m    159\u001b[0m \u001b[1;33m\u001b[0m\u001b[0m\n",
      "\u001b[1;32m~\\AppData\\Local\\conda\\conda\\envs\\jup\\lib\\site-packages\\pandas\\io\\common.py\u001b[0m in \u001b[0;36m_get_handle\u001b[1;34m(path_or_buf, mode, encoding, compression, memory_map, is_text)\u001b[0m\n\u001b[0;32m    422\u001b[0m         \u001b[1;32melif\u001b[0m \u001b[0mencoding\u001b[0m\u001b[1;33m:\u001b[0m\u001b[1;33m\u001b[0m\u001b[1;33m\u001b[0m\u001b[0m\n\u001b[0;32m    423\u001b[0m             \u001b[1;31m# Python 3 and encoding\u001b[0m\u001b[1;33m\u001b[0m\u001b[1;33m\u001b[0m\u001b[1;33m\u001b[0m\u001b[0m\n\u001b[1;32m--> 424\u001b[1;33m             \u001b[0mf\u001b[0m \u001b[1;33m=\u001b[0m \u001b[0mopen\u001b[0m\u001b[1;33m(\u001b[0m\u001b[0mpath_or_buf\u001b[0m\u001b[1;33m,\u001b[0m \u001b[0mmode\u001b[0m\u001b[1;33m,\u001b[0m \u001b[0mencoding\u001b[0m\u001b[1;33m=\u001b[0m\u001b[0mencoding\u001b[0m\u001b[1;33m,\u001b[0m \u001b[0mnewline\u001b[0m\u001b[1;33m=\u001b[0m\u001b[1;34m\"\"\u001b[0m\u001b[1;33m)\u001b[0m\u001b[1;33m\u001b[0m\u001b[1;33m\u001b[0m\u001b[0m\n\u001b[0m\u001b[0;32m    425\u001b[0m         \u001b[1;32melif\u001b[0m \u001b[0mis_text\u001b[0m\u001b[1;33m:\u001b[0m\u001b[1;33m\u001b[0m\u001b[1;33m\u001b[0m\u001b[0m\n\u001b[0;32m    426\u001b[0m             \u001b[1;31m# Python 3 and no explicit encoding\u001b[0m\u001b[1;33m\u001b[0m\u001b[1;33m\u001b[0m\u001b[1;33m\u001b[0m\u001b[0m\n",
      "\u001b[1;31mFileNotFoundError\u001b[0m: [Errno 2] No such file or directory: 'output/export_dataframe_k_2.csv'"
     ]
    }
   ],
   "source": [
    "for k in [2, 4, 8, 16]:\n",
    "    anonymize(dataset.copy(), k)"
   ]
  },
  {
   "cell_type": "code",
   "execution_count": null,
   "metadata": {},
   "outputs": [],
   "source": []
  }
 ],
 "metadata": {
  "kernelspec": {
   "display_name": "Python 3",
   "language": "python",
   "name": "python3"
  },
  "language_info": {
   "codemirror_mode": {
    "name": "ipython",
    "version": 3
   },
   "file_extension": ".py",
   "mimetype": "text/x-python",
   "name": "python",
   "nbconvert_exporter": "python",
   "pygments_lexer": "ipython3",
   "version": "3.6.8"
  }
 },
 "nbformat": 4,
 "nbformat_minor": 2
}
