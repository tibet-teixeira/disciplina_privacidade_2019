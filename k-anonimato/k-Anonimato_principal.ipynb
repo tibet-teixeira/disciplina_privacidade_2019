{
 "cells": [
  {
   "cell_type": "markdown",
   "metadata": {},
   "source": [
    "# K-Anonimato"
   ]
  },
  {
   "cell_type": "code",
   "execution_count": 1,
   "metadata": {},
   "outputs": [],
   "source": [
    "import random as rdm\n",
    "import pandas as pd\n",
    "import numpy as np"
   ]
  },
  {
   "cell_type": "code",
   "execution_count": 2,
   "metadata": {},
   "outputs": [
    {
     "data": {
      "text/html": [
       "<div>\n",
       "<style scoped>\n",
       "    .dataframe tbody tr th:only-of-type {\n",
       "        vertical-align: middle;\n",
       "    }\n",
       "\n",
       "    .dataframe tbody tr th {\n",
       "        vertical-align: top;\n",
       "    }\n",
       "\n",
       "    .dataframe thead th {\n",
       "        text-align: right;\n",
       "    }\n",
       "</style>\n",
       "<table border=\"1\" class=\"dataframe\">\n",
       "  <thead>\n",
       "    <tr style=\"text-align: right;\">\n",
       "      <th></th>\n",
       "      <th>id</th>\n",
       "      <th>pais</th>\n",
       "      <th>estado</th>\n",
       "      <th>cidade</th>\n",
       "      <th>genero</th>\n",
       "      <th>data</th>\n",
       "      <th>salario</th>\n",
       "    </tr>\n",
       "  </thead>\n",
       "  <tbody>\n",
       "    <tr>\n",
       "      <th>0</th>\n",
       "      <td>1</td>\n",
       "      <td>United States</td>\n",
       "      <td>Alabama</td>\n",
       "      <td>Mobile</td>\n",
       "      <td>Male</td>\n",
       "      <td>10/01/1987</td>\n",
       "      <td>$5407.86</td>\n",
       "    </tr>\n",
       "    <tr>\n",
       "      <th>1</th>\n",
       "      <td>2</td>\n",
       "      <td>Portugal</td>\n",
       "      <td>Porto</td>\n",
       "      <td>Rego</td>\n",
       "      <td>Male</td>\n",
       "      <td>29/11/2007</td>\n",
       "      <td>$7833.82</td>\n",
       "    </tr>\n",
       "    <tr>\n",
       "      <th>2</th>\n",
       "      <td>3</td>\n",
       "      <td>Sweden</td>\n",
       "      <td>Kalmar</td>\n",
       "      <td>Emmaboda</td>\n",
       "      <td>Male</td>\n",
       "      <td>23/06/1984</td>\n",
       "      <td>$5530.85</td>\n",
       "    </tr>\n",
       "    <tr>\n",
       "      <th>3</th>\n",
       "      <td>4</td>\n",
       "      <td>Sweden</td>\n",
       "      <td>Västmanland</td>\n",
       "      <td>Sala</td>\n",
       "      <td>Female</td>\n",
       "      <td>04/11/1983</td>\n",
       "      <td>$2803.76</td>\n",
       "    </tr>\n",
       "    <tr>\n",
       "      <th>4</th>\n",
       "      <td>5</td>\n",
       "      <td>France</td>\n",
       "      <td>Bretagne</td>\n",
       "      <td>Quimperlé</td>\n",
       "      <td>Female</td>\n",
       "      <td>18/11/1990</td>\n",
       "      <td>$2201.87</td>\n",
       "    </tr>\n",
       "  </tbody>\n",
       "</table>\n",
       "</div>"
      ],
      "text/plain": [
       "   id           pais       estado     cidade  genero        data   salario\n",
       "0   1  United States      Alabama     Mobile    Male  10/01/1987  $5407.86\n",
       "1   2       Portugal        Porto       Rego    Male  29/11/2007  $7833.82\n",
       "2   3         Sweden       Kalmar   Emmaboda    Male  23/06/1984  $5530.85\n",
       "3   4         Sweden  Västmanland       Sala  Female  04/11/1983  $2803.76\n",
       "4   5         France     Bretagne  Quimperlé  Female  18/11/1990  $2201.87"
      ]
     },
     "execution_count": 2,
     "metadata": {},
     "output_type": "execute_result"
    }
   ],
   "source": [
    "df = pd.read_csv(\"salario.csv\")\n",
    "df.head()"
   ]
  },
  {
   "cell_type": "code",
   "execution_count": 3,
   "metadata": {},
   "outputs": [
    {
     "data": {
      "text/html": [
       "<div>\n",
       "<style scoped>\n",
       "    .dataframe tbody tr th:only-of-type {\n",
       "        vertical-align: middle;\n",
       "    }\n",
       "\n",
       "    .dataframe tbody tr th {\n",
       "        vertical-align: top;\n",
       "    }\n",
       "\n",
       "    .dataframe thead th {\n",
       "        text-align: right;\n",
       "    }\n",
       "</style>\n",
       "<table border=\"1\" class=\"dataframe\">\n",
       "  <thead>\n",
       "    <tr style=\"text-align: right;\">\n",
       "      <th></th>\n",
       "      <th>id</th>\n",
       "    </tr>\n",
       "  </thead>\n",
       "  <tbody>\n",
       "    <tr>\n",
       "      <th>count</th>\n",
       "      <td>1000.000000</td>\n",
       "    </tr>\n",
       "    <tr>\n",
       "      <th>mean</th>\n",
       "      <td>500.500000</td>\n",
       "    </tr>\n",
       "    <tr>\n",
       "      <th>std</th>\n",
       "      <td>288.819436</td>\n",
       "    </tr>\n",
       "    <tr>\n",
       "      <th>min</th>\n",
       "      <td>1.000000</td>\n",
       "    </tr>\n",
       "    <tr>\n",
       "      <th>25%</th>\n",
       "      <td>250.750000</td>\n",
       "    </tr>\n",
       "    <tr>\n",
       "      <th>50%</th>\n",
       "      <td>500.500000</td>\n",
       "    </tr>\n",
       "    <tr>\n",
       "      <th>75%</th>\n",
       "      <td>750.250000</td>\n",
       "    </tr>\n",
       "    <tr>\n",
       "      <th>max</th>\n",
       "      <td>1000.000000</td>\n",
       "    </tr>\n",
       "  </tbody>\n",
       "</table>\n",
       "</div>"
      ],
      "text/plain": [
       "                id\n",
       "count  1000.000000\n",
       "mean    500.500000\n",
       "std     288.819436\n",
       "min       1.000000\n",
       "25%     250.750000\n",
       "50%     500.500000\n",
       "75%     750.250000\n",
       "max    1000.000000"
      ]
     },
     "execution_count": 3,
     "metadata": {},
     "output_type": "execute_result"
    }
   ],
   "source": [
    "df.describe()"
   ]
  },
  {
   "cell_type": "markdown",
   "metadata": {},
   "source": [
    "## Joining the locality attributes"
   ]
  },
  {
   "cell_type": "code",
   "execution_count": 4,
   "metadata": {},
   "outputs": [],
   "source": [
    "ids = df.id\n",
    "cities = df.cidade\n",
    "states = df.estado\n",
    "countries = df.pais"
   ]
  },
  {
   "cell_type": "code",
   "execution_count": 5,
   "metadata": {},
   "outputs": [],
   "source": [
    "locality = []\n",
    "for i in range(len(cities)):\n",
    "    locality.append([ids[i], str('{}, {}, {}'.format(cities[i], states[i], countries[i]))])"
   ]
  },
  {
   "cell_type": "code",
   "execution_count": 6,
   "metadata": {},
   "outputs": [
    {
     "data": {
      "text/html": [
       "<div>\n",
       "<style scoped>\n",
       "    .dataframe tbody tr th:only-of-type {\n",
       "        vertical-align: middle;\n",
       "    }\n",
       "\n",
       "    .dataframe tbody tr th {\n",
       "        vertical-align: top;\n",
       "    }\n",
       "\n",
       "    .dataframe thead th {\n",
       "        text-align: right;\n",
       "    }\n",
       "</style>\n",
       "<table border=\"1\" class=\"dataframe\">\n",
       "  <thead>\n",
       "    <tr style=\"text-align: right;\">\n",
       "      <th></th>\n",
       "      <th>id</th>\n",
       "      <th>localidade</th>\n",
       "    </tr>\n",
       "  </thead>\n",
       "  <tbody>\n",
       "    <tr>\n",
       "      <th>0</th>\n",
       "      <td>1</td>\n",
       "      <td>Mobile, Alabama, United States</td>\n",
       "    </tr>\n",
       "    <tr>\n",
       "      <th>1</th>\n",
       "      <td>2</td>\n",
       "      <td>Rego, Porto, Portugal</td>\n",
       "    </tr>\n",
       "    <tr>\n",
       "      <th>2</th>\n",
       "      <td>3</td>\n",
       "      <td>Emmaboda, Kalmar, Sweden</td>\n",
       "    </tr>\n",
       "    <tr>\n",
       "      <th>3</th>\n",
       "      <td>4</td>\n",
       "      <td>Sala, Västmanland, Sweden</td>\n",
       "    </tr>\n",
       "    <tr>\n",
       "      <th>4</th>\n",
       "      <td>5</td>\n",
       "      <td>Quimperlé, Bretagne, France</td>\n",
       "    </tr>\n",
       "  </tbody>\n",
       "</table>\n",
       "</div>"
      ],
      "text/plain": [
       "   id                      localidade\n",
       "0   1  Mobile, Alabama, United States\n",
       "1   2           Rego, Porto, Portugal\n",
       "2   3        Emmaboda, Kalmar, Sweden\n",
       "3   4       Sala, Västmanland, Sweden\n",
       "4   5     Quimperlé, Bretagne, France"
      ]
     },
     "execution_count": 6,
     "metadata": {},
     "output_type": "execute_result"
    }
   ],
   "source": [
    "df_locality = pd.DataFrame(locality, columns=['id', 'localidade'])\n",
    "df_locality.head()"
   ]
  },
  {
   "cell_type": "markdown",
   "metadata": {},
   "source": [
    "## Joining the dataframes"
   ]
  },
  {
   "cell_type": "code",
   "execution_count": 7,
   "metadata": {},
   "outputs": [
    {
     "data": {
      "text/html": [
       "<div>\n",
       "<style scoped>\n",
       "    .dataframe tbody tr th:only-of-type {\n",
       "        vertical-align: middle;\n",
       "    }\n",
       "\n",
       "    .dataframe tbody tr th {\n",
       "        vertical-align: top;\n",
       "    }\n",
       "\n",
       "    .dataframe thead th {\n",
       "        text-align: right;\n",
       "    }\n",
       "</style>\n",
       "<table border=\"1\" class=\"dataframe\">\n",
       "  <thead>\n",
       "    <tr style=\"text-align: right;\">\n",
       "      <th></th>\n",
       "      <th>id</th>\n",
       "      <th>pais</th>\n",
       "      <th>estado</th>\n",
       "      <th>cidade</th>\n",
       "      <th>genero</th>\n",
       "      <th>data</th>\n",
       "      <th>salario</th>\n",
       "      <th>id</th>\n",
       "      <th>localidade</th>\n",
       "    </tr>\n",
       "  </thead>\n",
       "  <tbody>\n",
       "    <tr>\n",
       "      <th>0</th>\n",
       "      <td>1</td>\n",
       "      <td>United States</td>\n",
       "      <td>Alabama</td>\n",
       "      <td>Mobile</td>\n",
       "      <td>Male</td>\n",
       "      <td>10/01/1987</td>\n",
       "      <td>$5407.86</td>\n",
       "      <td>1</td>\n",
       "      <td>Mobile, Alabama, United States</td>\n",
       "    </tr>\n",
       "    <tr>\n",
       "      <th>1</th>\n",
       "      <td>2</td>\n",
       "      <td>Portugal</td>\n",
       "      <td>Porto</td>\n",
       "      <td>Rego</td>\n",
       "      <td>Male</td>\n",
       "      <td>29/11/2007</td>\n",
       "      <td>$7833.82</td>\n",
       "      <td>2</td>\n",
       "      <td>Rego, Porto, Portugal</td>\n",
       "    </tr>\n",
       "    <tr>\n",
       "      <th>2</th>\n",
       "      <td>3</td>\n",
       "      <td>Sweden</td>\n",
       "      <td>Kalmar</td>\n",
       "      <td>Emmaboda</td>\n",
       "      <td>Male</td>\n",
       "      <td>23/06/1984</td>\n",
       "      <td>$5530.85</td>\n",
       "      <td>3</td>\n",
       "      <td>Emmaboda, Kalmar, Sweden</td>\n",
       "    </tr>\n",
       "    <tr>\n",
       "      <th>3</th>\n",
       "      <td>4</td>\n",
       "      <td>Sweden</td>\n",
       "      <td>Västmanland</td>\n",
       "      <td>Sala</td>\n",
       "      <td>Female</td>\n",
       "      <td>04/11/1983</td>\n",
       "      <td>$2803.76</td>\n",
       "      <td>4</td>\n",
       "      <td>Sala, Västmanland, Sweden</td>\n",
       "    </tr>\n",
       "    <tr>\n",
       "      <th>4</th>\n",
       "      <td>5</td>\n",
       "      <td>France</td>\n",
       "      <td>Bretagne</td>\n",
       "      <td>Quimperlé</td>\n",
       "      <td>Female</td>\n",
       "      <td>18/11/1990</td>\n",
       "      <td>$2201.87</td>\n",
       "      <td>5</td>\n",
       "      <td>Quimperlé, Bretagne, France</td>\n",
       "    </tr>\n",
       "  </tbody>\n",
       "</table>\n",
       "</div>"
      ],
      "text/plain": [
       "   id           pais       estado     cidade  genero        data   salario  \\\n",
       "0   1  United States      Alabama     Mobile    Male  10/01/1987  $5407.86   \n",
       "1   2       Portugal        Porto       Rego    Male  29/11/2007  $7833.82   \n",
       "2   3         Sweden       Kalmar   Emmaboda    Male  23/06/1984  $5530.85   \n",
       "3   4         Sweden  Västmanland       Sala  Female  04/11/1983  $2803.76   \n",
       "4   5         France     Bretagne  Quimperlé  Female  18/11/1990  $2201.87   \n",
       "\n",
       "   id                      localidade  \n",
       "0   1  Mobile, Alabama, United States  \n",
       "1   2           Rego, Porto, Portugal  \n",
       "2   3        Emmaboda, Kalmar, Sweden  \n",
       "3   4       Sala, Västmanland, Sweden  \n",
       "4   5     Quimperlé, Bretagne, France  "
      ]
     },
     "execution_count": 7,
     "metadata": {},
     "output_type": "execute_result"
    }
   ],
   "source": [
    "join_dataset = pd.concat([df, df_locality], axis=1, join='inner')\n",
    "join_dataset.head()"
   ]
  },
  {
   "cell_type": "markdown",
   "metadata": {},
   "source": [
    "## Removing attributes"
   ]
  },
  {
   "cell_type": "code",
   "execution_count": 8,
   "metadata": {},
   "outputs": [
    {
     "data": {
      "text/html": [
       "<div>\n",
       "<style scoped>\n",
       "    .dataframe tbody tr th:only-of-type {\n",
       "        vertical-align: middle;\n",
       "    }\n",
       "\n",
       "    .dataframe tbody tr th {\n",
       "        vertical-align: top;\n",
       "    }\n",
       "\n",
       "    .dataframe thead th {\n",
       "        text-align: right;\n",
       "    }\n",
       "</style>\n",
       "<table border=\"1\" class=\"dataframe\">\n",
       "  <thead>\n",
       "    <tr style=\"text-align: right;\">\n",
       "      <th></th>\n",
       "      <th>genero</th>\n",
       "      <th>data</th>\n",
       "      <th>salario</th>\n",
       "      <th>localidade</th>\n",
       "    </tr>\n",
       "  </thead>\n",
       "  <tbody>\n",
       "    <tr>\n",
       "      <th>count</th>\n",
       "      <td>1000</td>\n",
       "      <td>1000</td>\n",
       "      <td>1000</td>\n",
       "      <td>1000</td>\n",
       "    </tr>\n",
       "    <tr>\n",
       "      <th>unique</th>\n",
       "      <td>2</td>\n",
       "      <td>956</td>\n",
       "      <td>1000</td>\n",
       "      <td>769</td>\n",
       "    </tr>\n",
       "    <tr>\n",
       "      <th>top</th>\n",
       "      <td>Female</td>\n",
       "      <td>17/01/1981</td>\n",
       "      <td>$3615.07</td>\n",
       "      <td>Stockholm, Stockholm, Sweden</td>\n",
       "    </tr>\n",
       "    <tr>\n",
       "      <th>freq</th>\n",
       "      <td>542</td>\n",
       "      <td>3</td>\n",
       "      <td>1</td>\n",
       "      <td>15</td>\n",
       "    </tr>\n",
       "  </tbody>\n",
       "</table>\n",
       "</div>"
      ],
      "text/plain": [
       "        genero        data   salario                    localidade\n",
       "count     1000        1000      1000                          1000\n",
       "unique       2         956      1000                           769\n",
       "top     Female  17/01/1981  $3615.07  Stockholm, Stockholm, Sweden\n",
       "freq       542           3         1                            15"
      ]
     },
     "execution_count": 8,
     "metadata": {},
     "output_type": "execute_result"
    }
   ],
   "source": [
    "dataset = join_dataset.drop(columns = ['id', 'pais', 'estado', 'cidade'])\n",
    "dataset.describe()"
   ]
  },
  {
   "cell_type": "markdown",
   "metadata": {},
   "source": [
    "## Date generalization function"
   ]
  },
  {
   "cell_type": "code",
   "execution_count": 9,
   "metadata": {},
   "outputs": [],
   "source": [
    "def date_generalization(dataset, level):\n",
    "    if level == 1:\n",
    "        # date '**/MM/YYYY'\n",
    "        for data in range(len(dataset)):\n",
    "            dataset.iloc[data]['data'] = str('**' + dataset.iloc[data]['data'][2:10])\n",
    "    elif level == 2:\n",
    "        # date '**/**/YYYY'\n",
    "        for data in range(len(dataset)):\n",
    "            dataset.iloc[data]['data'] = str('**/**' + dataset.iloc[data]['data'][5:10])\n",
    "    elif level == 3:\n",
    "        # date'**/**/****'\n",
    "        for data in range(len(dataset)):\n",
    "            dataset.iloc[data]['data'] = str('**/**/****')\n",
    "        \n",
    "    return dataset"
   ]
  },
  {
   "cell_type": "code",
   "execution_count": 10,
   "metadata": {},
   "outputs": [],
   "source": [
    "def locality_generalization(dataset, level):\n",
    "    if level == 0:\n",
    "        # locality 'city'\n",
    "        for data in range(len(dataset)):\n",
    "            place = dataset.iloc[data]['localidade'].split(',')\n",
    "            dataset.iloc[data]['localidade'] = place[0] + \",\"+place[1] + \",\" + place[2]\n",
    "    elif level == 1:\n",
    "        # locality 'state,'\n",
    "        for data in range(len(dataset)):\n",
    "            place = dataset.iloc[data]['localidade'].split(',')\n",
    "            dataset.iloc[data]['localidade'] = \"**,\" + place[1] + \",\" + place[2]\n",
    "    elif level == 2:\n",
    "        # locality 'country'\n",
    "        for data in range(len(dataset)):\n",
    "            place = dataset.iloc[data]['localidade'].split(',')\n",
    "            dataset.iloc[data]['localidade'] = \"**,**,\" + place[2]\n",
    "    elif level == 3:\n",
    "        # locality '*'\n",
    "        for data in range(len(dataset)):\n",
    "            dataset.iloc[data]['localidade'] = '*'\n",
    "        \n",
    "    return dataset"
   ]
  },
  {
   "cell_type": "code",
   "execution_count": 11,
   "metadata": {},
   "outputs": [],
   "source": [
    "def gender_generalization(dataset, level):\n",
    "    if level == 1:\n",
    "        # gender '*'\n",
    "        for data in range(len(dataset)):\n",
    "            dataset.iloc[data]['genero'] = '*'\n",
    "            \n",
    "    return dataset"
   ]
  },
  {
   "cell_type": "markdown",
   "metadata": {},
   "source": [
    "## Precision metric"
   ]
  },
  {
   "cell_type": "markdown",
   "metadata": {},
   "source": [
    "$precision (D, Na, h, HGVA) = 1 - \\frac{\\sum_{i=1}^{Na} \\sum_{j=1}^{|D|} \\frac{h}{HGVA_i}}{|D| * Na}\n",
    "$\n",
    "\n",
    "- D: dataset\n",
    "- Na: number of semi-identifier attributes\n",
    "- h: height of attribute value generalization hierarchy Ai after generalization\n",
    "- |HGVAi|: maximum height of hierarchy"
   ]
  },
  {
   "cell_type": "code",
   "execution_count": 12,
   "metadata": {},
   "outputs": [],
   "source": [
    "def precision(D, Na, HGVA):\n",
    "    h = []\n",
    "    summation = 0\n",
    "    for j in range(len(D)):\n",
    "        data = D.iloc[j][\"data\"].count('*')\n",
    "        localidade = D.iloc[j][\"localidade\"].count('*')\n",
    "        genero = D.iloc[j][\"genero\"].count('*')\n",
    "        \n",
    "        h_data = 0\n",
    "        if data == 2:\n",
    "            h_data = 1\n",
    "        elif data == 4:\n",
    "            h_data = 2\n",
    "        elif data == 8:\n",
    "            h_data = 3\n",
    "            \n",
    "        h_localidade = 0\n",
    "        if localidade == 1:\n",
    "            h_localidade = 3\n",
    "        elif localidade == 2:\n",
    "            h_localidade = 1\n",
    "        elif localidade == 4:\n",
    "            h_localidade = 2\n",
    "            \n",
    "        h_genero = 0\n",
    "        if genero == 1:\n",
    "            h_genero = 1\n",
    "            \n",
    "        h.append([h_data, h_genero, h_localidade])\n",
    "    \n",
    "    for i in range(Na):\n",
    "        for j in range(len(D)):\n",
    "            summation += (h[j][i] / (HGVA[i]))\n",
    "    \n",
    "    return 1 - (summation / (len(D) * Na))"
   ]
  },
  {
   "cell_type": "code",
   "execution_count": 13,
   "metadata": {},
   "outputs": [],
   "source": [
    "def final_iterate(x,y):\n",
    "    print()"
   ]
  },
  {
   "cell_type": "markdown",
   "metadata": {},
   "source": [
    "# Generating anonymization"
   ]
  },
  {
   "cell_type": "code",
   "execution_count": 14,
   "metadata": {
    "scrolled": true
   },
   "outputs": [],
   "source": [
    "def anonymize(dataset, k):\n",
    "\n",
    "    d = {'data': [], 'genero': [], 'localidade':[], 'salario':[]}\n",
    "    df_final = pd.DataFrame(data=d)\n",
    "\n",
    "    Ordem_Generalizacoes = [(date_generalization, 1),\n",
    "                            (locality_generalization, 1),\n",
    "                            (date_generalization, 2),\n",
    "                            (locality_generalization, 2),\n",
    "                            (gender_generalization, 1),\n",
    "                            (date_generalization, 3),\n",
    "                            (locality_generalization, 3),\n",
    "                            (final_iterate, 1)]\n",
    "        \n",
    "    for generalizacao_atual in Ordem_Generalizacoes:\n",
    "        aux = dataset.groupby([\"data\",\"genero\",\"localidade\"])[\"localidade\"].count()\n",
    "\n",
    "        atributos_K_anonimizados = aux[aux >= k].index\n",
    "\n",
    "        for i in atributos_K_anonimizados:\n",
    "            date = i[0]\n",
    "            gender = i[1]\n",
    "            locality = i[2]\n",
    "\n",
    "            indices_prontos = dataset[ (dataset['data'] == date) & (dataset['genero'] == gender) & (dataset[\"localidade\"] == locality)].index#[0]\n",
    "\n",
    "            df_final = df_final.append(dataset.iloc[indices_prontos], ignore_index = True)\n",
    "            dataset.drop(indices_prontos, inplace=True)\n",
    "            dataset = dataset.reset_index(drop=True)\n",
    "        \n",
    "        generalizacao_atual[0](dataset, generalizacao_atual[1])\n",
    "        \n",
    "    calculate_precision = float(\"{0:.4f}\".format(precision(df_final, 3, [4, 1, 3])))\n",
    "\n",
    "    print('Precision for k =', k, 'is', calculate_precision)\n",
    "    df_final.to_csv (r'output/export_dataframe_k_' + str(k) +'.csv', index = None, header=True)\n",
    "    \n",
    "    dataset_anonymized = open('output/export_dataframe_k_'  + str(k) +'.csv',\"a\")\n",
    "    dataset_anonymized.write('Precision is ' + str(calculate_precision))\n",
    "    dataset_anonymized.close()"
   ]
  },
  {
   "cell_type": "code",
   "execution_count": 15,
   "metadata": {
    "scrolled": true
   },
   "outputs": [
    {
     "name": "stderr",
     "output_type": "stream",
     "text": [
      "C:\\Users\\Tibet\\AppData\\Local\\conda\\conda\\envs\\jup\\lib\\site-packages\\pandas\\core\\frame.py:6692: FutureWarning: Sorting because non-concatenation axis is not aligned. A future version\n",
      "of pandas will change to not sort by default.\n",
      "\n",
      "To accept the future behavior, pass 'sort=False'.\n",
      "\n",
      "To retain the current behavior and silence the warning, pass 'sort=True'.\n",
      "\n",
      "  sort=sort)\n"
     ]
    },
    {
     "name": "stdout",
     "output_type": "stream",
     "text": [
      "\n",
      "Precision for k = 2 is 0.6001\n",
      "\n",
      "Precision for k = 4 is 0.4329\n",
      "\n",
      "Precision for k = 8 is 0.2544\n",
      "\n",
      "Precision for k = 16 is 0.1944\n"
     ]
    }
   ],
   "source": [
    "for k in [2, 4, 8, 16]:\n",
    "    anonymize(dataset.copy(), k)"
   ]
  }
 ],
 "metadata": {
  "kernelspec": {
   "display_name": "Python 3",
   "language": "python",
   "name": "python3"
  },
  "language_info": {
   "codemirror_mode": {
    "name": "ipython",
    "version": 3
   },
   "file_extension": ".py",
   "mimetype": "text/x-python",
   "name": "python",
   "nbconvert_exporter": "python",
   "pygments_lexer": "ipython3",
   "version": "3.6.8"
  }
 },
 "nbformat": 4,
 "nbformat_minor": 2
}
