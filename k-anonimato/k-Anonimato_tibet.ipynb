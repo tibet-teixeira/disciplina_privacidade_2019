{
 "cells": [
  {
   "cell_type": "code",
   "execution_count": 1,
   "metadata": {},
   "outputs": [],
   "source": [
    "import random as rdm\n",
    "import pandas as pd\n",
    "import numpy as np"
   ]
  },
  {
   "cell_type": "markdown",
   "metadata": {},
   "source": [
    "## Funções de generalização"
   ]
  },
  {
   "cell_type": "code",
   "execution_count": 9,
   "metadata": {},
   "outputs": [],
   "source": [
    "def date_generalization(dataset, level):\n",
    "    new_dataset = dataset.copy()\n",
    "    if level == 1:\n",
    "        # date '**/MM/YYYY'\n",
    "        for data in range(len(new_dataset)):\n",
    "            new_dataset.iloc[data]['data'] = str('**' + new_dataset.iloc[data]['data'][2:10])\n",
    "    elif level == 2:\n",
    "        # date '**/**/YYYY'\n",
    "        for data in range(len(new_dataset)):\n",
    "            new_dataset.iloc[data]['data'] = str('**/**' + new_dataset.iloc[data]['data'][5:10])\n",
    "    elif level == 3:\n",
    "        # date'**/**/****'\n",
    "        for data in range(len(new_dataset)):\n",
    "            new_dataset.iloc[data]['data'] = str('**/**/****')\n",
    "        \n",
    "    return new_dataset"
   ]
  },
  {
   "cell_type": "code",
   "execution_count": 53,
   "metadata": {},
   "outputs": [],
   "source": [
    "def locality_generalization(dataset, level):\n",
    "    new_dataset = dataset.copy()\n",
    "    if level == 0:\n",
    "        # locality 'city'\n",
    "        for data in range(len(new_dataset)):\n",
    "            locais = new_dataset.iloc[data]['localidade'].split(',')\n",
    "            new_dataset.iloc[data]['localidade'] = locais[0]+\",\"+locais[1]+\",\"+locais[2]\n",
    "    elif level == 1:\n",
    "        # locality 'state,'\n",
    "        for data in range(len(new_dataset)):\n",
    "            locais = new_dataset.iloc[data]['localidade'].split(',')\n",
    "            new_dataset.iloc[data]['localidade'] = \"**,\"+locais[1]+\",\"+locais[2]\n",
    "    elif level == 2:\n",
    "        # locality 'country'\n",
    "        for data in range(len(new_dataset)):\n",
    "            locais = new_dataset.iloc[data]['localidade'].split(',')\n",
    "            new_dataset.iloc[data]['localidade'] = \"**,**,\"+locais[2]\n",
    "    elif level == 3:\n",
    "        # locality '*'\n",
    "        for data in range(len(new_dataset)):\n",
    "            new_dataset.iloc[data]['localidade'] = '**'\n",
    "       \n",
    "    return new_dataset"
   ]
  },
  {
   "cell_type": "code",
   "execution_count": 11,
   "metadata": {},
   "outputs": [],
   "source": [
    "def gender_generalization(dataset, level):\n",
    "    new_dataset = dataset.copy()\n",
    "    if level == 1:\n",
    "        # gender '*'\n",
    "        for data in range(len(new_dataset)):\n",
    "            new_dataset.iloc[data]['genero'] = '*'\n",
    "            \n",
    "    return new_dataset"
   ]
  },
  {
   "cell_type": "code",
   "execution_count": 55,
   "metadata": {},
   "outputs": [],
   "source": [
    "def define_groups(dataset_dict, k):\n",
    "    flag = False\n",
    "    for value, level in dataset_dict.values():\n",
    "        if value < k:\n",
    "            flag = True\n",
    "    \n",
    "    if not(flag):\n",
    "        return dataset_dict\n",
    "    \n",
    "    without_group = dict()\n",
    "    with_group = dict()\n",
    "    \n",
    "    for data in dataset_dict:\n",
    "        if dataset_dict[data][0] < k:\n",
    "            without_group[data] = dataset_dict[data]\n",
    "        else:\n",
    "            with_group[data] = dataset_dict[data]\n",
    "        \n",
    "    with_group.update(generate_equivalent_classes(without_group, k)) # concatenate dictionaries\n",
    "    return define_groups(with_group, k)\n",
    "\n"
   ]
  },
  {
   "cell_type": "code",
   "execution_count": 56,
   "metadata": {},
   "outputs": [],
   "source": [
    "def generate_equivalent_classes(dataset_dict, k):\n",
    "    \n",
    "    locality_level = list()\n",
    "    date_level = list()\n",
    "    gender_level = list()\n",
    "    \n",
    "    for value, level in dataset_dict.values():\n",
    "            locality_level.append(level[0])\n",
    "            date_level.append(level[1])\n",
    "            gender_level.append(level[2])\n",
    "    \n",
    "    avgs = [np.average(locality_level), np.average(date_level), np.average(gender_level)]\n",
    "    attr = 0\n",
    "    i = 0\n",
    "    min_avg = np.max(avgs)\n",
    "    \n",
    "    for avg in avgs:\n",
    "        if avg < min_avg:\n",
    "            min_avg = avg\n",
    "            attr = i\n",
    "        i += 1\n",
    "\n",
    "    new_dataset = pd.DataFrame(list(dataset_dict.keys()), columns=['localidade', 'data', 'genero'])\n",
    "    level = [np.floor(avgs[0]), np.floor(avgs[1]), np.floor(avgs[2])]\n",
    "    if attr == 0:    \n",
    "        new_group = locality_generalization(new_dataset, level[0] + 1)\n",
    "    elif attr == 1:\n",
    "        new_group = date_generalization(new_dataset, level[1] + 1)\n",
    "    elif attr == 2:\n",
    "        new_group = gender_generalization(new_dataset, level[2] + 1)\n",
    "        \n",
    "    level[attr] += 1\n",
    "    \n",
    "    \n",
    "    return generate_group(new_group, level)"
   ]
  },
  {
   "cell_type": "code",
   "execution_count": 15,
   "metadata": {},
   "outputs": [],
   "source": [
    "def sort_dict(unordered_dict):\n",
    "    sorted_dict = dict()\n",
    "    for key in unordered_dict:\n",
    "        sorted_dict[key] = unordered_dict[key]\n",
    "\n",
    "    return sorted(sorted_dict.items(), key=lambda kv: kv[1][0])"
   ]
  },
  {
   "cell_type": "code",
   "execution_count": 139,
   "metadata": {},
   "outputs": [],
   "source": [
    "def generate_group(dataset, levels):\n",
    "    # levels: [locality, date, gender]\n",
    "    \n",
    "    a = dataset.groupby([\"localidade\", \"data\", \"genero\"])[\"localidade\"].count()\n",
    "    group_dict = dict()\n",
    "\n",
    "    for data in range(len(dataset)):\n",
    "        register = dataset.iloc[data]\n",
    "        triple = (register['localidade'], register['data'], register['genero'])\n",
    "        group_dict[(register['localidade'], register['data'], register['genero'])] = [a[triple], levels]\n",
    "    return group_dict"
   ]
  },
  {
   "cell_type": "code",
   "execution_count": 140,
   "metadata": {},
   "outputs": [],
   "source": [
    "df = pd.read_csv(\"salario.csv\")\n",
    "\n",
    "ids = df.id\n",
    "cities = df.cidade\n",
    "states = df.estado\n",
    "countries = df.pais"
   ]
  },
  {
   "cell_type": "code",
   "execution_count": 141,
   "metadata": {},
   "outputs": [],
   "source": [
    "locality = []\n",
    "for i in range(len(cities)):\n",
    "    locality.append([ids[i], str('{}, {}, {}'.format(cities[i], states[i], countries[i]))])\n",
    "    \n",
    "df_locality = pd.DataFrame(locality, columns=['id', 'localidade'])\n",
    "\n",
    "join_dataset = pd.concat([df, df_locality], axis=1, join='inner')\n",
    "dataset = join_dataset.drop(columns = ['id', 'pais', 'estado', 'cidade', 'salario'])"
   ]
  },
  {
   "cell_type": "code",
   "execution_count": 142,
   "metadata": {},
   "outputs": [
    {
     "name": "stderr",
     "output_type": "stream",
     "text": [
      "C:\\Users\\Tibet\\AppData\\Local\\conda\\conda\\envs\\jup\\lib\\site-packages\\ipykernel_launcher.py:8: SettingWithCopyWarning: \n",
      "A value is trying to be set on a copy of a slice from a DataFrame\n",
      "\n",
      "See the caveats in the documentation: http://pandas.pydata.org/pandas-docs/stable/indexing.html#indexing-view-versus-copy\n",
      "  \n"
     ]
    }
   ],
   "source": [
    "dataset_date_gen = date_generalization(dataset, 0)\n",
    "dataset_gender_gen = gender_generalization(dataset_date_gen, 0)\n",
    "dataset_loc_gen = locality_generalization(dataset_gender_gen, 0)\n",
    "\n",
    "dataset_loc_gen.head()\n",
    "\n",
    "groups = generate_group(dataset_loc_gen, [0, 0, 0])\n",
    "# sort_dict(groups)"
   ]
  },
  {
   "cell_type": "code",
   "execution_count": null,
   "metadata": {},
   "outputs": [],
   "source": []
  },
  {
   "cell_type": "markdown",
   "metadata": {},
   "source": [
    "## 2-anonimato"
   ]
  },
  {
   "cell_type": "code",
   "execution_count": 93,
   "metadata": {},
   "outputs": [
    {
     "data": {
      "text/plain": [
       "4"
      ]
     },
     "execution_count": 93,
     "metadata": {},
     "output_type": "execute_result"
    }
   ],
   "source": [
    "dataset_test1 = pd.DataFrame([['a', 'b', 'c'],\n",
    "                 ['a', 'b', 'c'],\n",
    "                 ['a', 'b', 'c'],\n",
    "                 ['a', 'b', 'c'],\n",
    "                 ['d', 'e', 'f']], columns=[\"localidade\", \"data\", \"genero\"])\n",
    "\n",
    "a = dataset_test1.groupby([\"localidade\", \"data\", \"genero\"])[\"localidade\"].count()\n",
    "a[('a', 'b', 'c')]"
   ]
  },
  {
   "cell_type": "code",
   "execution_count": 100,
   "metadata": {},
   "outputs": [],
   "source": [
    "def sum_register(dataset_dict):\n",
    "    total_registers = 0\n",
    "    for value, level in dataset_dict.values():\n",
    "        total_registers += value\n",
    "        \n",
    "    return total_registers"
   ]
  },
  {
   "cell_type": "code",
   "execution_count": 114,
   "metadata": {},
   "outputs": [
    {
     "data": {
      "text/plain": [
       "1000"
      ]
     },
     "execution_count": 114,
     "metadata": {},
     "output_type": "execute_result"
    }
   ],
   "source": [
    "sum_register(anonimato_2)"
   ]
  },
  {
   "cell_type": "code",
   "execution_count": 113,
   "metadata": {},
   "outputs": [],
   "source": [
    "anonimato_2 = define_groups(groups, 2)\n",
    "# sort_dict(anonimato_2)"
   ]
  },
  {
   "cell_type": "markdown",
   "metadata": {},
   "source": [
    "## 16-anonimato"
   ]
  },
  {
   "cell_type": "code",
   "execution_count": 115,
   "metadata": {},
   "outputs": [
    {
     "data": {
      "text/plain": [
       "[(('**', '**/**/****', '*'), [31, [3.0, 3.0, 2.0]])]"
      ]
     },
     "execution_count": 115,
     "metadata": {},
     "output_type": "execute_result"
    }
   ],
   "source": [
    "anonimato_16 = define_groups(groups, 16)\n",
    "sort_dict(anonimato_16)"
   ]
  },
  {
   "cell_type": "code",
   "execution_count": 116,
   "metadata": {},
   "outputs": [
    {
     "data": {
      "text/plain": [
       "31"
      ]
     },
     "execution_count": 116,
     "metadata": {},
     "output_type": "execute_result"
    }
   ],
   "source": [
    "sum_register(anonimato_16)"
   ]
  },
  {
   "cell_type": "markdown",
   "metadata": {},
   "source": [
    "## Função de Precisão"
   ]
  },
  {
   "cell_type": "markdown",
   "metadata": {},
   "source": [
    "$precision (D, Na, h, HGVA) = 1 - \\frac{\\sum_{i=1}^{Na} \\sum_{j=1}^{|D|} \\frac{h}{HGVA_i}}{|D| * Na}\n",
    "$\n",
    "\n",
    "- D: conjunto de dados\n",
    "- Na: número de atributos semi-identificadores\n",
    "- h: altura da hierarquia de generalização de valor do atributo Ai após anonimização\n",
    "- |HGVAi|: altura máxima da hierarquia"
   ]
  },
  {
   "cell_type": "code",
   "execution_count": null,
   "metadata": {},
   "outputs": [],
   "source": [
    "def precision(D, Na, h, HGVA):\n",
    "    summation = 0\n",
    "    for i in range(Na):\n",
    "        for j in range(len(D)):\n",
    "            summation += (h[i] / (HGVA[i]))\n",
    "    \n",
    "    return 1 - (summation / (len(D) * Na))\n",
    "#     return 1 - (summation / ((len(D) * Na)\n",
    "            "
   ]
  },
  {
   "cell_type": "code",
   "execution_count": null,
   "metadata": {},
   "outputs": [],
   "source": [
    "precision(groups, 3, [2, 4, 0], [3, 4, 1])"
   ]
  },
  {
   "cell_type": "code",
   "execution_count": null,
   "metadata": {},
   "outputs": [],
   "source": []
  }
 ],
 "metadata": {
  "kernelspec": {
   "display_name": "Python 3",
   "language": "python",
   "name": "python3"
  },
  "language_info": {
   "codemirror_mode": {
    "name": "ipython",
    "version": 3
   },
   "file_extension": ".py",
   "mimetype": "text/x-python",
   "name": "python",
   "nbconvert_exporter": "python",
   "pygments_lexer": "ipython3",
   "version": "3.6.8"
  }
 },
 "nbformat": 4,
 "nbformat_minor": 2
}
