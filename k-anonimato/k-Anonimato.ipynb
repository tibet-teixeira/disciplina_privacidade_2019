{
 "cells": [
  {
   "cell_type": "code",
   "execution_count": 1,
   "metadata": {},
   "outputs": [],
   "source": [
    "import random as rdm\n",
    "import pandas as pd\n",
    "import numpy as np"
   ]
  },
  {
   "cell_type": "code",
   "execution_count": 4,
   "metadata": {},
   "outputs": [
    {
     "data": {
      "text/html": [
       "<div>\n",
       "<style scoped>\n",
       "    .dataframe tbody tr th:only-of-type {\n",
       "        vertical-align: middle;\n",
       "    }\n",
       "\n",
       "    .dataframe tbody tr th {\n",
       "        vertical-align: top;\n",
       "    }\n",
       "\n",
       "    .dataframe thead th {\n",
       "        text-align: right;\n",
       "    }\n",
       "</style>\n",
       "<table border=\"1\" class=\"dataframe\">\n",
       "  <thead>\n",
       "    <tr style=\"text-align: right;\">\n",
       "      <th></th>\n",
       "      <th>id</th>\n",
       "      <th>pais</th>\n",
       "      <th>estado</th>\n",
       "      <th>cidade</th>\n",
       "      <th>genero</th>\n",
       "      <th>data</th>\n",
       "      <th>salario</th>\n",
       "    </tr>\n",
       "  </thead>\n",
       "  <tbody>\n",
       "    <tr>\n",
       "      <td>0</td>\n",
       "      <td>1</td>\n",
       "      <td>United States</td>\n",
       "      <td>Alabama</td>\n",
       "      <td>Mobile</td>\n",
       "      <td>Male</td>\n",
       "      <td>10/01/1987</td>\n",
       "      <td>$5407.86</td>\n",
       "    </tr>\n",
       "    <tr>\n",
       "      <td>1</td>\n",
       "      <td>2</td>\n",
       "      <td>Portugal</td>\n",
       "      <td>Porto</td>\n",
       "      <td>Rego</td>\n",
       "      <td>Male</td>\n",
       "      <td>29/11/2007</td>\n",
       "      <td>$7833.82</td>\n",
       "    </tr>\n",
       "    <tr>\n",
       "      <td>2</td>\n",
       "      <td>3</td>\n",
       "      <td>Sweden</td>\n",
       "      <td>Kalmar</td>\n",
       "      <td>Emmaboda</td>\n",
       "      <td>Male</td>\n",
       "      <td>23/06/1984</td>\n",
       "      <td>$5530.85</td>\n",
       "    </tr>\n",
       "    <tr>\n",
       "      <td>3</td>\n",
       "      <td>4</td>\n",
       "      <td>Sweden</td>\n",
       "      <td>Västmanland</td>\n",
       "      <td>Sala</td>\n",
       "      <td>Female</td>\n",
       "      <td>04/11/1983</td>\n",
       "      <td>$2803.76</td>\n",
       "    </tr>\n",
       "    <tr>\n",
       "      <td>4</td>\n",
       "      <td>5</td>\n",
       "      <td>France</td>\n",
       "      <td>Bretagne</td>\n",
       "      <td>Quimperlé</td>\n",
       "      <td>Female</td>\n",
       "      <td>18/11/1990</td>\n",
       "      <td>$2201.87</td>\n",
       "    </tr>\n",
       "    <tr>\n",
       "      <td>...</td>\n",
       "      <td>...</td>\n",
       "      <td>...</td>\n",
       "      <td>...</td>\n",
       "      <td>...</td>\n",
       "      <td>...</td>\n",
       "      <td>...</td>\n",
       "      <td>...</td>\n",
       "    </tr>\n",
       "    <tr>\n",
       "      <td>995</td>\n",
       "      <td>996</td>\n",
       "      <td>Canada</td>\n",
       "      <td>Saskatchewan</td>\n",
       "      <td>Nipawin</td>\n",
       "      <td>Female</td>\n",
       "      <td>29/11/1995</td>\n",
       "      <td>$7782.63</td>\n",
       "    </tr>\n",
       "    <tr>\n",
       "      <td>996</td>\n",
       "      <td>997</td>\n",
       "      <td>Portugal</td>\n",
       "      <td>Portalegre</td>\n",
       "      <td>Santo Aleixo</td>\n",
       "      <td>Female</td>\n",
       "      <td>09/02/1988</td>\n",
       "      <td>$4772.43</td>\n",
       "    </tr>\n",
       "    <tr>\n",
       "      <td>997</td>\n",
       "      <td>998</td>\n",
       "      <td>France</td>\n",
       "      <td>Île-de-France</td>\n",
       "      <td>Boissy-Saint-Léger</td>\n",
       "      <td>Male</td>\n",
       "      <td>17/10/1990</td>\n",
       "      <td>$5004.78</td>\n",
       "    </tr>\n",
       "    <tr>\n",
       "      <td>998</td>\n",
       "      <td>999</td>\n",
       "      <td>France</td>\n",
       "      <td>Bretagne</td>\n",
       "      <td>Rennes</td>\n",
       "      <td>Male</td>\n",
       "      <td>23/09/1996</td>\n",
       "      <td>$5362.26</td>\n",
       "    </tr>\n",
       "    <tr>\n",
       "      <td>999</td>\n",
       "      <td>1000</td>\n",
       "      <td>Mexico</td>\n",
       "      <td>Guanajuato</td>\n",
       "      <td>Lindavista</td>\n",
       "      <td>Female</td>\n",
       "      <td>19/11/2006</td>\n",
       "      <td>$3737.37</td>\n",
       "    </tr>\n",
       "  </tbody>\n",
       "</table>\n",
       "<p>1000 rows × 7 columns</p>\n",
       "</div>"
      ],
      "text/plain": [
       "       id           pais         estado              cidade  genero  \\\n",
       "0       1  United States        Alabama              Mobile    Male   \n",
       "1       2       Portugal          Porto                Rego    Male   \n",
       "2       3         Sweden         Kalmar            Emmaboda    Male   \n",
       "3       4         Sweden    Västmanland                Sala  Female   \n",
       "4       5         France       Bretagne           Quimperlé  Female   \n",
       "..    ...            ...            ...                 ...     ...   \n",
       "995   996         Canada   Saskatchewan             Nipawin  Female   \n",
       "996   997       Portugal     Portalegre        Santo Aleixo  Female   \n",
       "997   998         France  Île-de-France  Boissy-Saint-Léger    Male   \n",
       "998   999         France       Bretagne              Rennes    Male   \n",
       "999  1000         Mexico     Guanajuato          Lindavista  Female   \n",
       "\n",
       "           data   salario  \n",
       "0    10/01/1987  $5407.86  \n",
       "1    29/11/2007  $7833.82  \n",
       "2    23/06/1984  $5530.85  \n",
       "3    04/11/1983  $2803.76  \n",
       "4    18/11/1990  $2201.87  \n",
       "..          ...       ...  \n",
       "995  29/11/1995  $7782.63  \n",
       "996  09/02/1988  $4772.43  \n",
       "997  17/10/1990  $5004.78  \n",
       "998  23/09/1996  $5362.26  \n",
       "999  19/11/2006  $3737.37  \n",
       "\n",
       "[1000 rows x 7 columns]"
      ]
     },
     "execution_count": 4,
     "metadata": {},
     "output_type": "execute_result"
    }
   ],
   "source": [
    "df = pd.read_csv(\"salario.csv\")\n",
    "df"
   ]
  },
  {
   "cell_type": "code",
   "execution_count": 2,
   "metadata": {},
   "outputs": [],
   "source": [
    "class Generalizacao:\n",
    "    def __init__(self,nome):\n",
    "        self.filhos = []\n",
    "        self.nome = nome\n",
    "    def adicionarFilho(self,filho):\n",
    "        if\n",
    "    def toString(self):\n",
    "ArvoreDatas = Generalizacao(\"**/**/****\")        "
   ]
  },
  {
   "cell_type": "code",
   "execution_count": 43,
   "metadata": {
    "scrolled": true
   },
   "outputs": [
    {
     "data": {
      "text/plain": [
       "['2/2/2011',\n",
       " '2/2/2010',\n",
       " '2/1/2011',\n",
       " '1/2/2010',\n",
       " '2/2/2010',\n",
       " '1/2/2010',\n",
       " '1/1/2011',\n",
       " '1/1/2011',\n",
       " '2/1/2011',\n",
       " '1/2/2010',\n",
       " '2/2/2011',\n",
       " '2/2/2011',\n",
       " '1/2/2011',\n",
       " '2/1/2010',\n",
       " '1/1/2010',\n",
       " '2/1/2011',\n",
       " '1/2/2011',\n",
       " '1/2/2010',\n",
       " '2/1/2010',\n",
       " '2/1/2011',\n",
       " '1/2/2011',\n",
       " '2/1/2011',\n",
       " '1/2/2011',\n",
       " '2/2/2011',\n",
       " '2/1/2011',\n",
       " '2/1/2011',\n",
       " '2/2/2011',\n",
       " '2/2/2011',\n",
       " '2/1/2011',\n",
       " '2/2/2011',\n",
       " '2/2/2010',\n",
       " '2/2/2011',\n",
       " '1/1/2010',\n",
       " '2/2/2011',\n",
       " '1/2/2011',\n",
       " '1/1/2011',\n",
       " '2/2/2010',\n",
       " '2/2/2011',\n",
       " '2/2/2010',\n",
       " '2/2/2011',\n",
       " '1/1/2011',\n",
       " '1/2/2010',\n",
       " '1/2/2011',\n",
       " '2/1/2011',\n",
       " '2/1/2010',\n",
       " '1/2/2011',\n",
       " '1/2/2011',\n",
       " '1/2/2010',\n",
       " '2/1/2011',\n",
       " '2/1/2011']"
      ]
     },
     "execution_count": 43,
     "metadata": {},
     "output_type": "execute_result"
    }
   ],
   "source": [
    "datas = []\n",
    "for i in range(50):\n",
    "    data = \"%d/%d/%d\"%(rdm.randint(1,2),rdm.randint(1,2),rdm.randint(2010,2011))\n",
    "    datas.append(data)\n",
    "datas"
   ]
  },
  {
   "cell_type": "code",
   "execution_count": 45,
   "metadata": {},
   "outputs": [],
   "source": [
    "a = [[data] for data in datas]"
   ]
  },
  {
   "cell_type": "code",
   "execution_count": 46,
   "metadata": {},
   "outputs": [],
   "source": [
    "b = np.array(a)"
   ]
  },
  {
   "cell_type": "code",
   "execution_count": 47,
   "metadata": {},
   "outputs": [
    {
     "data": {
      "text/plain": [
       "pandas.core.frame.DataFrame"
      ]
     },
     "execution_count": 47,
     "metadata": {},
     "output_type": "execute_result"
    }
   ],
   "source": [
    "df = pd.DataFrame(b)\n",
    "type(df)"
   ]
  },
  {
   "cell_type": "code",
   "execution_count": 50,
   "metadata": {},
   "outputs": [
    {
     "ename": "TypeError",
     "evalue": "'method' object is not subscriptable",
     "output_type": "error",
     "traceback": [
      "\u001b[0;31m---------------------------------------------------------------------------\u001b[0m",
      "\u001b[0;31mTypeError\u001b[0m                                 Traceback (most recent call last)",
      "\u001b[0;32m<ipython-input-50-1c99c308273e>\u001b[0m in \u001b[0;36m<module>\u001b[0;34m\u001b[0m\n\u001b[0;32m----> 1\u001b[0;31m \u001b[0mprint\u001b[0m\u001b[0;34m(\u001b[0m\u001b[0mdf\u001b[0m\u001b[0;34m.\u001b[0m\u001b[0mgroupby\u001b[0m\u001b[0;34m[\u001b[0m\u001b[0;36m0\u001b[0m\u001b[0;34m]\u001b[0m\u001b[0;34m.\u001b[0m\u001b[0mcount\u001b[0m\u001b[0;34m(\u001b[0m\u001b[0;34m)\u001b[0m\u001b[0;34m)\u001b[0m\u001b[0;34m\u001b[0m\u001b[0;34m\u001b[0m\u001b[0m\n\u001b[0m\u001b[1;32m      2\u001b[0m \u001b[0;31m#df.groupby(0)[0]\u001b[0m\u001b[0;34m\u001b[0m\u001b[0;34m\u001b[0m\u001b[0;34m\u001b[0m\u001b[0m\n\u001b[1;32m      3\u001b[0m \u001b[0;31m#.to_frame()\u001b[0m\u001b[0;34m\u001b[0m\u001b[0;34m\u001b[0m\u001b[0;34m\u001b[0m\u001b[0m\n\u001b[1;32m      4\u001b[0m \u001b[0;32mfor\u001b[0m \u001b[0mi\u001b[0m \u001b[0;32min\u001b[0m \u001b[0mdf\u001b[0m\u001b[0;34m.\u001b[0m\u001b[0mgroupby\u001b[0m\u001b[0;34m(\u001b[0m\u001b[0;36m0\u001b[0m\u001b[0;34m)\u001b[0m\u001b[0;34m:\u001b[0m\u001b[0;34m\u001b[0m\u001b[0;34m\u001b[0m\u001b[0m\n\u001b[1;32m      5\u001b[0m     \u001b[0mprint\u001b[0m\u001b[0;34m(\u001b[0m\u001b[0mi\u001b[0m\u001b[0;34m)\u001b[0m\u001b[0;34m\u001b[0m\u001b[0;34m\u001b[0m\u001b[0m\n",
      "\u001b[0;31mTypeError\u001b[0m: 'method' object is not subscriptable"
     ]
    }
   ],
   "source": [
    "print(df.groupby[0].count())\n",
    "#df.groupby(0)[0]\n",
    "#.to_frame()\n",
    "for i in df.groupby(0):\n",
    "    print(i)"
   ]
  },
  {
   "cell_type": "code",
   "execution_count": null,
   "metadata": {},
   "outputs": [],
   "source": []
  }
 ],
 "metadata": {
  "kernelspec": {
   "display_name": "Python 3",
   "language": "python",
   "name": "python3"
  },
  "language_info": {
   "codemirror_mode": {
    "name": "ipython",
    "version": 3
   },
   "file_extension": ".py",
   "mimetype": "text/x-python",
   "name": "python",
   "nbconvert_exporter": "python",
   "pygments_lexer": "ipython3",
   "version": "3.7.3"
  }
 },
 "nbformat": 4,
 "nbformat_minor": 2
}
