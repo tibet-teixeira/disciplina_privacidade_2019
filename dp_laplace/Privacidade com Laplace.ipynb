{
 "cells": [
  {
   "cell_type": "code",
   "execution_count": null,
   "metadata": {},
   "outputs": [],
   "source": [
    "from scipy.stats import laplace\n",
    "import matplotlib.pyplot as plt\n",
    "import pandas as pd"
   ]
  },
  {
   "cell_type": "code",
   "execution_count": null,
   "metadata": {},
   "outputs": [],
   "source": [
    "result = open(\"result.csv\",'w')"
   ]
  },
  {
   "cell_type": "markdown",
   "metadata": {},
   "source": [
    "## Apresenta Laplace"
   ]
  },
  {
   "cell_type": "code",
   "execution_count": null,
   "metadata": {},
   "outputs": [],
   "source": [
    "def ApresentarDistribuicao(l, s):\n",
    "    fig, ax = plt.subplots(1, 1)\n",
    "    r = laplace.rvs(loc=l, scale=s, size=1000)# media, desvio padrao, quantidade de valores\n",
    "    ax.hist(r, density=True)\n",
    "    plt.show()"
   ]
  },
  {
   "cell_type": "markdown",
   "metadata": {},
   "source": [
    "## Importa DataBase"
   ]
  },
  {
   "cell_type": "code",
   "execution_count": null,
   "metadata": {},
   "outputs": [],
   "source": [
    "dataset = pd.read_csv(\"adult.csv\")\n",
    "dataset.columns"
   ]
  },
  {
   "cell_type": "markdown",
   "metadata": {},
   "source": [
    "## Consultas\n",
    "1. Q1: Média do atributo age\n",
    "2. Q2: Somatório do atributo capital-gain;\n",
    "3. Q3: Média do atributo hours-per-week ;\n",
    "4. Q4: Quantidade de pessoas com income > 50K."
   ]
  },
  {
   "cell_type": "code",
   "execution_count": null,
   "metadata": {},
   "outputs": [],
   "source": [
    "def PreProcessamentoDataset(dataset,numeroQuestao=4):\n",
    "    if(numeroQuestao == 4):\n",
    "        return dataset[ dataset[\"class\"] == \">50K\" ]\n",
    "    return dataset"
   ]
  },
  {
   "cell_type": "code",
   "execution_count": null,
   "metadata": {},
   "outputs": [],
   "source": [
    "def Q1(dataset):\n",
    "    return dataset.age.mean()\n",
    "\n",
    "def Q2(dataset):\n",
    "    return dataset.capitalgain.sum()\n",
    "\n",
    "def Q3(dataset):\n",
    "    return dataset.hoursperweek.mean()\n",
    "\n",
    "def Q4(dataset):\n",
    "    DatasetProcessado = PreProcessamentoDataset(dataset,4)\n",
    "    return DatasetProcessado.shape[0]"
   ]
  },
  {
   "cell_type": "markdown",
   "metadata": {},
   "source": [
    "## Vizinhaça"
   ]
  },
  {
   "cell_type": "code",
   "execution_count": null,
   "metadata": {},
   "outputs": [],
   "source": [
    "def gerarVizinho(dataset,linhaRemover):\n",
    "    return dataset.drop([linhaRemover])\n",
    "\n",
    "def gerarListaVizinhos(dataset):\n",
    "    listaTodosVizinhos = []\n",
    "    for i in range(dataset.shape[0]):\n",
    "        listaTodosVizinhos.append( gerarVizinho(dataset, i) )\n",
    "    return listaTodosVizinhos"
   ]
  },
  {
   "cell_type": "markdown",
   "metadata": {},
   "source": [
    "## Sensibilidade"
   ]
  },
  {
   "cell_type": "code",
   "execution_count": null,
   "metadata": {},
   "outputs": [],
   "source": [
    "def deltaF(dataset,f):\n",
    "    maiorDiferenca = 0\n",
    "    df = dataset.copy()\n",
    "    if(f==Q1):\n",
    "        df = df.drop(['workclass', 'fnlwgt', 'education', 'education-num',\n",
    "           'marital-status', 'occupation', 'relationship', 'race', 'sex',\n",
    "           'capitalgain', 'capitalloss', 'hoursperweek', 'native-country',\n",
    "           'class'],axis=1)\n",
    "    for vizinho in gerarListaVizinhos(df):\n",
    "        diferenca = abs ( f(dataset) - f(vizinho) )\n",
    "        if( maiorDiferenca < diferenca):\n",
    "            maiorDiferenca = diferenca\n",
    "    return maiorDiferenca"
   ]
  },
  {
   "cell_type": "markdown",
   "metadata": {},
   "source": [
    "## Laplace"
   ]
  },
  {
   "cell_type": "code",
   "execution_count": null,
   "metadata": {},
   "outputs": [],
   "source": [
    "def LAP(x):\n",
    "    ApresentarDistribuicao(0,(x/e))\n",
    "    return laplace.rvs(loc=u, scale= (x/e) )"
   ]
  },
  {
   "cell_type": "markdown",
   "metadata": {},
   "source": [
    "# Mecanismo"
   ]
  },
  {
   "cell_type": "code",
   "execution_count": null,
   "metadata": {},
   "outputs": [],
   "source": [
    "e = 1 # ε = {0.1, 1, 10}\n",
    "b = e\n",
    "u = 0\n",
    "\n",
    "def Ml(dataset,funcao):\n",
    "    delta = deltaF(dataset, funcao)\n",
    "    print(delta)\n",
    "    lap = LAP( delta )\n",
    "    print(lap)\n",
    "    resultado = funcao(dataset) + lap\n",
    "    \n",
    "    result.write(\"budget: {}, result q1,{}, sens q1,{}\".format(e, resultado, delta))\n",
    "    \n",
    "    return resultado"
   ]
  },
  {
   "cell_type": "code",
   "execution_count": null,
   "metadata": {},
   "outputs": [],
   "source": [
    "Ml(dataset, Q1)"
   ]
  },
  {
   "cell_type": "code",
   "execution_count": null,
   "metadata": {},
   "outputs": [],
   "source": []
  },
  {
   "cell_type": "code",
   "execution_count": null,
   "metadata": {},
   "outputs": [],
   "source": []
  },
  {
   "cell_type": "code",
   "execution_count": null,
   "metadata": {},
   "outputs": [],
   "source": [
    "#exemplo do slide\n",
    "d = {'nome': [\"z\", \"s\",\"g\",\"l\"], 'casas': [4,2,7,1]}\n",
    "df = pd.DataFrame(data=d)"
   ]
  },
  {
   "cell_type": "code",
   "execution_count": null,
   "metadata": {},
   "outputs": [],
   "source": [
    "def f1(dataset):\n",
    "    return dataset.casas.sum()"
   ]
  },
  {
   "cell_type": "code",
   "execution_count": null,
   "metadata": {},
   "outputs": [],
   "source": [
    "Ml(df, f1)"
   ]
  },
  {
   "cell_type": "code",
   "execution_count": null,
   "metadata": {},
   "outputs": [],
   "source": [
    "result.close()"
   ]
  },
  {
   "cell_type": "code",
   "execution_count": null,
   "metadata": {},
   "outputs": [],
   "source": []
  }
 ],
 "metadata": {
  "kernelspec": {
   "display_name": "Python 3",
   "language": "python",
   "name": "python3"
  },
  "language_info": {
   "codemirror_mode": {
    "name": "ipython",
    "version": 3
   },
   "file_extension": ".py",
   "mimetype": "text/x-python",
   "name": "python",
   "nbconvert_exporter": "python",
   "pygments_lexer": "ipython3",
   "version": "3.6.9"
  }
 },
 "nbformat": 4,
 "nbformat_minor": 2
}
