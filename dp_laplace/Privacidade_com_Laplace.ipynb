{
 "cells": [
  {
   "cell_type": "code",
   "execution_count": 2,
   "metadata": {
    "colab": {},
    "colab_type": "code",
    "id": "Eu-tkXsaPuYY"
   },
   "outputs": [],
   "source": [
    "from scipy.stats import laplace\n",
    "import matplotlib.pyplot as plt\n",
    "import pandas as pd\n",
    "import numpy as np"
   ]
  },
  {
   "cell_type": "markdown",
   "metadata": {
    "colab_type": "text",
    "id": "RS7TpPrnPuZF"
   },
   "source": [
    "## Importa o dataset"
   ]
  },
  {
   "cell_type": "code",
   "execution_count": 3,
   "metadata": {
    "colab": {
     "base_uri": "https://localhost:8080/",
     "height": 109
    },
    "colab_type": "code",
    "id": "licWSkFzPuZI",
    "outputId": "f72c9aa2-7678-4022-dc3a-81c7108b6cbb"
   },
   "outputs": [
    {
     "data": {
      "text/html": [
       "<div>\n",
       "<style scoped>\n",
       "    .dataframe tbody tr th:only-of-type {\n",
       "        vertical-align: middle;\n",
       "    }\n",
       "\n",
       "    .dataframe tbody tr th {\n",
       "        vertical-align: top;\n",
       "    }\n",
       "\n",
       "    .dataframe thead th {\n",
       "        text-align: right;\n",
       "    }\n",
       "</style>\n",
       "<table border=\"1\" class=\"dataframe\">\n",
       "  <thead>\n",
       "    <tr style=\"text-align: right;\">\n",
       "      <th></th>\n",
       "      <th>age</th>\n",
       "      <th>workclass</th>\n",
       "      <th>fnlwgt</th>\n",
       "      <th>education</th>\n",
       "      <th>education-num</th>\n",
       "      <th>marital-status</th>\n",
       "      <th>occupation</th>\n",
       "      <th>relationship</th>\n",
       "      <th>race</th>\n",
       "      <th>sex</th>\n",
       "      <th>capitalgain</th>\n",
       "      <th>capitalloss</th>\n",
       "      <th>hoursperweek</th>\n",
       "      <th>native-country</th>\n",
       "      <th>class</th>\n",
       "    </tr>\n",
       "  </thead>\n",
       "  <tbody>\n",
       "    <tr>\n",
       "      <th>0</th>\n",
       "      <td>2</td>\n",
       "      <td>State-gov</td>\n",
       "      <td>77516</td>\n",
       "      <td>Bachelors</td>\n",
       "      <td>13</td>\n",
       "      <td>Never-married</td>\n",
       "      <td>Adm-clerical</td>\n",
       "      <td>Not-in-family</td>\n",
       "      <td>White</td>\n",
       "      <td>Male</td>\n",
       "      <td>1</td>\n",
       "      <td>0</td>\n",
       "      <td>2</td>\n",
       "      <td>United-States</td>\n",
       "      <td>&lt;=50K</td>\n",
       "    </tr>\n",
       "    <tr>\n",
       "      <th>1</th>\n",
       "      <td>3</td>\n",
       "      <td>Self-emp-not-inc</td>\n",
       "      <td>83311</td>\n",
       "      <td>Bachelors</td>\n",
       "      <td>13</td>\n",
       "      <td>Married-civ-spouse</td>\n",
       "      <td>Exec-managerial</td>\n",
       "      <td>Husband</td>\n",
       "      <td>White</td>\n",
       "      <td>Male</td>\n",
       "      <td>0</td>\n",
       "      <td>0</td>\n",
       "      <td>0</td>\n",
       "      <td>United-States</td>\n",
       "      <td>&lt;=50K</td>\n",
       "    </tr>\n",
       "    <tr>\n",
       "      <th>2</th>\n",
       "      <td>2</td>\n",
       "      <td>Private</td>\n",
       "      <td>215646</td>\n",
       "      <td>HS-grad</td>\n",
       "      <td>9</td>\n",
       "      <td>Divorced</td>\n",
       "      <td>Handlers-cleaners</td>\n",
       "      <td>Not-in-family</td>\n",
       "      <td>White</td>\n",
       "      <td>Male</td>\n",
       "      <td>0</td>\n",
       "      <td>0</td>\n",
       "      <td>2</td>\n",
       "      <td>United-States</td>\n",
       "      <td>&lt;=50K</td>\n",
       "    </tr>\n",
       "    <tr>\n",
       "      <th>3</th>\n",
       "      <td>3</td>\n",
       "      <td>Private</td>\n",
       "      <td>234721</td>\n",
       "      <td>11th</td>\n",
       "      <td>7</td>\n",
       "      <td>Married-civ-spouse</td>\n",
       "      <td>Handlers-cleaners</td>\n",
       "      <td>Husband</td>\n",
       "      <td>Black</td>\n",
       "      <td>Male</td>\n",
       "      <td>0</td>\n",
       "      <td>0</td>\n",
       "      <td>2</td>\n",
       "      <td>United-States</td>\n",
       "      <td>&lt;=50K</td>\n",
       "    </tr>\n",
       "    <tr>\n",
       "      <th>4</th>\n",
       "      <td>1</td>\n",
       "      <td>Private</td>\n",
       "      <td>338409</td>\n",
       "      <td>Bachelors</td>\n",
       "      <td>13</td>\n",
       "      <td>Married-civ-spouse</td>\n",
       "      <td>Prof-specialty</td>\n",
       "      <td>Wife</td>\n",
       "      <td>Black</td>\n",
       "      <td>Female</td>\n",
       "      <td>0</td>\n",
       "      <td>0</td>\n",
       "      <td>2</td>\n",
       "      <td>Cuba</td>\n",
       "      <td>&lt;=50K</td>\n",
       "    </tr>\n",
       "  </tbody>\n",
       "</table>\n",
       "</div>"
      ],
      "text/plain": [
       "   age         workclass  fnlwgt  education  education-num  \\\n",
       "0    2         State-gov   77516  Bachelors             13   \n",
       "1    3  Self-emp-not-inc   83311  Bachelors             13   \n",
       "2    2           Private  215646    HS-grad              9   \n",
       "3    3           Private  234721       11th              7   \n",
       "4    1           Private  338409  Bachelors             13   \n",
       "\n",
       "       marital-status         occupation   relationship   race     sex  \\\n",
       "0       Never-married       Adm-clerical  Not-in-family  White    Male   \n",
       "1  Married-civ-spouse    Exec-managerial        Husband  White    Male   \n",
       "2            Divorced  Handlers-cleaners  Not-in-family  White    Male   \n",
       "3  Married-civ-spouse  Handlers-cleaners        Husband  Black    Male   \n",
       "4  Married-civ-spouse     Prof-specialty           Wife  Black  Female   \n",
       "\n",
       "   capitalgain  capitalloss  hoursperweek native-country  class  \n",
       "0            1            0             2  United-States  <=50K  \n",
       "1            0            0             0  United-States  <=50K  \n",
       "2            0            0             2  United-States  <=50K  \n",
       "3            0            0             2  United-States  <=50K  \n",
       "4            0            0             2           Cuba  <=50K  "
      ]
     },
     "execution_count": 3,
     "metadata": {},
     "output_type": "execute_result"
    }
   ],
   "source": [
    "dataset = pd.read_csv(\"adult.csv\")\n",
    "dataset.head()"
   ]
  },
  {
   "cell_type": "markdown",
   "metadata": {
    "colab_type": "text",
    "id": "P_RvMxwSPuZQ"
   },
   "source": [
    "## Consultas\n",
    "\n",
    "* Q1: Média do atributo age\n",
    "* Q2: Somatório do atributo capital-gain\n",
    "* Q3: Média do atributo hours-per-week\n",
    "* Q4: Quantidade de pessoas com income > 50K"
   ]
  },
  {
   "cell_type": "code",
   "execution_count": 4,
   "metadata": {
    "colab": {},
    "colab_type": "code",
    "id": "RcPIaGTqPuZa"
   },
   "outputs": [],
   "source": [
    "def Q1(dataset):\n",
    "    return dataset.age.mean()\n",
    "\n",
    "def Q2(dataset):\n",
    "    return dataset.capitalgain.sum()\n",
    "\n",
    "def Q3(dataset):\n",
    "    return dataset.hoursperweek.mean()\n",
    "\n",
    "def Q4(dataset):\n",
    "    DatasetProcessado = dataset[dataset[\"class\"] == \">50K\"]\n",
    "    return DatasetProcessado.shape[0]"
   ]
  },
  {
   "cell_type": "markdown",
   "metadata": {
    "colab_type": "text",
    "id": "XpMHCNsoPuZg"
   },
   "source": [
    "\n",
    "## Vizinhança\n"
   ]
  },
  {
   "cell_type": "code",
   "execution_count": 5,
   "metadata": {
    "colab": {},
    "colab_type": "code",
    "id": "GoPTjJZwPuZi"
   },
   "outputs": [],
   "source": [
    "def gerarVizinho(dataset,linhaRemover):\n",
    "    return dataset.drop([linhaRemover])\n",
    "\n",
    "def gerarListaVizinhosOtimizado(dataset, f):\n",
    "    naoMudar = NaoMudar(f)\n",
    "    unicos = []\n",
    "    listaTodosVizinhos = []\n",
    "    for i in range(dataset.shape[0]):\n",
    "        if(dataset.iloc[i][naoMudar] not in unicos):\n",
    "            unicos.append(dataset.iloc[i][naoMudar])\n",
    "            listaTodosVizinhos.append(gerarVizinho(dataset, i))\n",
    "    return listaTodosVizinhos"
   ]
  },
  {
   "cell_type": "code",
   "execution_count": 6,
   "metadata": {
    "colab": {},
    "colab_type": "code",
    "id": "Mpku3WZAUQuN"
   },
   "outputs": [],
   "source": [
    "def NaoMudar(f):\n",
    "    if(f==Q1):\n",
    "        return \"age\"\n",
    "    if(f==Q2):\n",
    "        return \"capitalgain\"\n",
    "    if(f==Q3):\n",
    "        return \"hoursperweek\"\n",
    "    if(f==Q4):\n",
    "        return \"capitalgain\""
   ]
  },
  {
   "cell_type": "markdown",
   "metadata": {
    "colab_type": "text",
    "id": "JjOewwdEPuZs"
   },
   "source": [
    "## Sensibilidade"
   ]
  },
  {
   "cell_type": "code",
   "execution_count": 7,
   "metadata": {
    "colab": {},
    "colab_type": "code",
    "id": "bOgKUoXIPuZu"
   },
   "outputs": [],
   "source": [
    "def calcularSensibilidade(dataset, f, sensibilidadeDatasetOriginal):   \n",
    "    maiorDiferenca = 0\n",
    "        \n",
    "    for vizinho in gerarListaVizinhosOtimizado(dataset, f):\n",
    "        diferenca = abs(sensibilidadeDatasetOriginal - f(vizinho))\n",
    "        if maiorDiferenca < diferenca:\n",
    "            maiorDiferenca = diferenca\n",
    "            \n",
    "    return maiorDiferenca"
   ]
  },
  {
   "cell_type": "markdown",
   "metadata": {
    "colab_type": "text",
    "id": "-A2NXEiCPuZ0"
   },
   "source": [
    "## Laplace"
   ]
  },
  {
   "cell_type": "code",
   "execution_count": 8,
   "metadata": {
    "colab": {},
    "colab_type": "code",
    "id": "OjNtzV1NPuZ2"
   },
   "outputs": [],
   "source": [
    "def calcularRuido(delta, budget, u):\n",
    "    return laplace.rvs(loc=u, scale=delta/budget)"
   ]
  },
  {
   "cell_type": "markdown",
   "metadata": {},
   "source": [
    "## Apresenta Laplace"
   ]
  },
  {
   "cell_type": "code",
   "execution_count": 9,
   "metadata": {},
   "outputs": [],
   "source": [
    "def apresentarDistribuicao(budget, u, sensibilidade, consulta):\n",
    "    fig, ax = plt.subplots()\n",
    " \n",
    "    r = laplace.rvs(loc=u, scale=sensibilidade/budget, size=1000)\n",
    "    ax.hist(r, density=True, histtype='stepfilled', alpha=0.2)  \n",
    "   \n",
    "    plt.xlabel('x')\n",
    "    plt.ylabel('laplace')\n",
    "    plt.title('Budget = {} - Consulta {}'.format(budget, consulta))\n",
    "\n",
    "    plt.show()"
   ]
  },
  {
   "cell_type": "markdown",
   "metadata": {
    "colab_type": "text",
    "id": "Be79YrIePuZ-"
   },
   "source": [
    "## Mecanismo"
   ]
  },
  {
   "cell_type": "code",
   "execution_count": 19,
   "metadata": {
    "colab": {},
    "colab_type": "code",
    "id": "8so7I2TMPuaA"
   },
   "outputs": [],
   "source": [
    "def calcularResposta(dataset, funcoes, budgets, u):\n",
    "    resultados = []\n",
    "    sensibilidades = []\n",
    "    \n",
    "    for budget in budgets:\n",
    "        indiceFuncao = 1\n",
    "        \n",
    "        for funcao in funcoes:\n",
    "            sensibilidadeDatasetOriginal = funcao(dataset)\n",
    "            delta = calcularSensibilidade(dataset, funcao, sensibilidadeDatasetOriginal)\n",
    "            \n",
    "            ruido = calcularRuido(delta, budget/len(funcoes), u)\n",
    "            \n",
    "            fD = funcao(dataset)\n",
    "            resultado = fD + ruido\n",
    "            \n",
    "#######             apresentarDistribuicao(budget, u, delta, 'Q'+str(indiceFuncao))\n",
    "            \n",
    "            print('Budget: {}'.format(budget))\n",
    "            print('Função: Q{}'.format(indiceFuncao))\n",
    "            print('Sensibilidade: {}'.format(delta))\n",
    "            print('F(D): {}'.format(fD))\n",
    "            print('Ruído: {}'.format(ruido))\n",
    "            print('Ruído + F(D): {}'.format(resultado))\n",
    "            print('')\n",
    "            \n",
    "            indiceFuncao += 1\n",
    "            \n",
    "            sensibilidades.append(delta)\n",
    "            resultados.append(resultado)\n",
    "    \n",
    "    consultas = ['Q1', 'Q2', 'Q3', 'Q4']\n",
    "\n",
    "    return (budgets, consultas, sensibilidades, resultados)"
   ]
  },
  {
   "cell_type": "markdown",
   "metadata": {},
   "source": [
    "## Salvando o resultado"
   ]
  },
  {
   "cell_type": "code",
   "execution_count": 25,
   "metadata": {},
   "outputs": [],
   "source": [
    "# budget, result q1, result q2, result q3, result q4, sens q1, sens q2, sens q3, sens q4\n",
    "# [budget], [r1-1 r1-2 r1-3 .... r10-4 ], [s1-1 s1-2 s1-3 .... s10-4 ]\n",
    "def salvarResultados(resultadosLaplace):\n",
    "    print(resultadosLaplace)\n",
    "    \n",
    "    budgets = resultadosLaplace[0]\n",
    "    consultas = resultadosLaplace[1]\n",
    "    sensibilidades = resultadosLaplace[2]\n",
    "    resultados = resultadosLaplace[3]\n",
    "    atributoResultado = []\n",
    "    atributoSensibilidade = []\n",
    "    \n",
    "    \n",
    "    \n",
    "    indiceBudget = 0\n",
    "    for budget in budgets:\n",
    "        resultado = []\n",
    "        sensibilidade = []\n",
    "        \n",
    "        indice = (indiceBudget * len(consultas))\n",
    "#         atributoResultado.append([budget, resultados[indice], resultados[indice + 1], resultados[indice + 2], resultados[indice + 3]])\n",
    "#         atributoSensibilidade.append([budget, sensibilidades[indice], sensibilidades[indice + 1], sensibilidades[indice + 2], sensibilidades[indice + 3]])\n",
    "        \n",
    "        resultado.append(budget)\n",
    "        sensibilidade.append(budget)\n",
    "        \n",
    "        for indiceConsulta in range(len(consultas)):\n",
    "            resultado.append(resultados[indice + indiceConsulta])\n",
    "            sensibilidade.append(sensibilidades[indice + indiceConsulta])\n",
    "        \n",
    "        atributoResultado.append(resultado)\n",
    "        atributoSensibilidade.append(sensibilidade)\n",
    "        indiceBudget += 1\n",
    "    \n",
    "    atributoResultadoDataframe =  pd.DataFrame(atributoResultado, columns=['budget', 'result q1', 'result q2', 'result q3', 'result q4'])\n",
    "    atributoSensibilidadeDataframe =  pd.DataFrame(atributoSensibilidade, columns=['budget2', 'sens q1', 'sens q2', 'sens q3', 'sens q4'])\n",
    "    resultadoDataframe = pd.concat([atributoResultadoDataframe, atributoSensibilidadeDataframe], axis=1, join='inner')\n",
    "    resultadoDataframe.drop(columns=['budget2'], inplace=True)\n",
    "    resultadoDataframe.to_csv('resultado.csv', index=False)"
   ]
  },
  {
   "cell_type": "code",
   "execution_count": null,
   "metadata": {},
   "outputs": [],
   "source": [
    "a = pd.DataFrame([[1, 2, 3], [4, 5, 6], [7, 8, 9]], columns = ['T1', 'T2', 'T3'])\n",
    "b = pd.DataFrame([[11, 22, 3], [44, 55, 6], [77, 88, 9]], columns = ['T4', 'T5', 'T6'])\n",
    "c = pd.concat([a, b], axis=1, join='inner')\n",
    "c.drop(columns=['T6'], inplace=True)\n",
    "c"
   ]
  },
  {
   "cell_type": "code",
   "execution_count": 26,
   "metadata": {},
   "outputs": [],
   "source": [
    "def main():\n",
    "    budgets = [0.1, 1, 10]\n",
    "    funcoes = [Q1, Q2, Q3, Q4]\n",
    "    u = 0\n",
    "    resultados = calcularResposta(dataset, funcoes, budgets, u)\n",
    "    salvarResultados(resultados)"
   ]
  },
  {
   "cell_type": "code",
   "execution_count": 27,
   "metadata": {},
   "outputs": [
    {
     "name": "stdout",
     "output_type": "stream",
     "text": [
      "Budget: 0.1\n",
      "Função: Q1\n",
      "Sensibilidade: 4.5636285693984036e-05\n",
      "F(D): 1.7710781704270915\n",
      "Ruído: 0.0033260662383417495\n",
      "Ruído + F(D): 1.7744042366654331\n",
      "\n",
      "Budget: 0.1\n",
      "Função: Q2\n",
      "Sensibilidade: 4\n",
      "F(D): 9784\n",
      "Ruído: -14.571385407346739\n",
      "Ruído + F(D): 9769.428614592653\n",
      "\n",
      "Budget: 0.1\n",
      "Função: Q3\n",
      "Sensibilidade: 4.19586378328507e-05\n",
      "F(D): 1.9506981696081243\n",
      "Ruído: -0.002551895390161096\n",
      "Ruído + F(D): 1.9481462742179632\n",
      "\n",
      "Budget: 0.1\n",
      "Função: Q4\n",
      "Sensibilidade: 1\n",
      "F(D): 11687\n",
      "Ruído: 24.16139611604804\n",
      "Ruído + F(D): 11711.161396116047\n",
      "\n",
      "Budget: 1\n",
      "Função: Q1\n",
      "Sensibilidade: 4.5636285693984036e-05\n",
      "F(D): 1.7710781704270915\n",
      "Ruído: 1.1529481959852366e-06\n",
      "Ruído + F(D): 1.7710793233752875\n",
      "\n",
      "Budget: 1\n",
      "Função: Q2\n",
      "Sensibilidade: 4\n",
      "F(D): 9784\n",
      "Ruído: -15.902118945310722\n",
      "Ruído + F(D): 9768.09788105469\n",
      "\n",
      "Budget: 1\n",
      "Função: Q3\n",
      "Sensibilidade: 4.19586378328507e-05\n",
      "F(D): 1.9506981696081243\n",
      "Ruído: 4.2812823258067765e-05\n",
      "Ruído + F(D): 1.9507409824313824\n",
      "\n",
      "Budget: 1\n",
      "Função: Q4\n",
      "Sensibilidade: 1\n",
      "F(D): 11687\n",
      "Ruído: 1.6352813850379964\n",
      "Ruído + F(D): 11688.635281385037\n",
      "\n",
      "Budget: 10\n",
      "Função: Q1\n",
      "Sensibilidade: 4.5636285693984036e-05\n",
      "F(D): 1.7710781704270915\n",
      "Ruído: 7.135694731890998e-06\n",
      "Ruído + F(D): 1.7710853061218235\n",
      "\n",
      "Budget: 10\n",
      "Função: Q2\n",
      "Sensibilidade: 4\n",
      "F(D): 9784\n",
      "Ruído: 0.05781622260694497\n",
      "Ruído + F(D): 9784.057816222607\n",
      "\n",
      "Budget: 10\n",
      "Função: Q3\n",
      "Sensibilidade: 4.19586378328507e-05\n",
      "F(D): 1.9506981696081243\n",
      "Ruído: 4.6031296852042066e-05\n",
      "Ruído + F(D): 1.9507442009049762\n",
      "\n",
      "Budget: 10\n",
      "Função: Q4\n",
      "Sensibilidade: 1\n",
      "F(D): 11687\n",
      "Ruído: 0.4914497670417108\n",
      "Ruído + F(D): 11687.491449767042\n",
      "\n",
      "([0.1, 1, 10], ['Q1', 'Q2', 'Q3', 'Q4'], [4.5636285693984036e-05, 4, 4.19586378328507e-05, 1, 4.5636285693984036e-05, 4, 4.19586378328507e-05, 1, 4.5636285693984036e-05, 4, 4.19586378328507e-05, 1], [1.7744042366654331, 9769.428614592653, 1.9481462742179632, 11711.161396116047, 1.7710793233752875, 9768.09788105469, 1.9507409824313824, 11688.635281385037, 1.7710853061218235, 9784.057816222607, 1.9507442009049762, 11687.491449767042])\n"
     ]
    }
   ],
   "source": [
    "main()"
   ]
  },
  {
   "cell_type": "code",
   "execution_count": null,
   "metadata": {},
   "outputs": [],
   "source": []
  }
 ],
 "metadata": {
  "colab": {
   "name": "Privacidade com Laplace.ipynb",
   "provenance": []
  },
  "kernelspec": {
   "display_name": "Python 3",
   "language": "python",
   "name": "python3"
  },
  "language_info": {
   "codemirror_mode": {
    "name": "ipython",
    "version": 3
   },
   "file_extension": ".py",
   "mimetype": "text/x-python",
   "name": "python",
   "nbconvert_exporter": "python",
   "pygments_lexer": "ipython3",
   "version": "3.7.0"
  }
 },
 "nbformat": 4,
 "nbformat_minor": 1
}
