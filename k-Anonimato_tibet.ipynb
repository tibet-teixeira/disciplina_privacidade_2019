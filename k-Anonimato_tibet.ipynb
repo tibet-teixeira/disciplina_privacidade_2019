{
 "cells": [
  {
   "cell_type": "code",
   "execution_count": 5,
   "metadata": {},
   "outputs": [],
   "source": [
    "import random as rdm\n",
    "import pandas as pd\n",
    "import numpy as np"
   ]
  },
  {
   "cell_type": "code",
   "execution_count": 84,
   "metadata": {},
   "outputs": [
    {
     "data": {
      "text/html": [
       "<div>\n",
       "<style scoped>\n",
       "    .dataframe tbody tr th:only-of-type {\n",
       "        vertical-align: middle;\n",
       "    }\n",
       "\n",
       "    .dataframe tbody tr th {\n",
       "        vertical-align: top;\n",
       "    }\n",
       "\n",
       "    .dataframe thead th {\n",
       "        text-align: right;\n",
       "    }\n",
       "</style>\n",
       "<table border=\"1\" class=\"dataframe\">\n",
       "  <thead>\n",
       "    <tr style=\"text-align: right;\">\n",
       "      <th></th>\n",
       "      <th>id</th>\n",
       "      <th>pais</th>\n",
       "      <th>estado</th>\n",
       "      <th>cidade</th>\n",
       "      <th>genero</th>\n",
       "      <th>data</th>\n",
       "      <th>salario</th>\n",
       "    </tr>\n",
       "  </thead>\n",
       "  <tbody>\n",
       "    <tr>\n",
       "      <th>0</th>\n",
       "      <td>1</td>\n",
       "      <td>United States</td>\n",
       "      <td>Alabama</td>\n",
       "      <td>Mobile</td>\n",
       "      <td>Male</td>\n",
       "      <td>10/01/1987</td>\n",
       "      <td>$5407.86</td>\n",
       "    </tr>\n",
       "    <tr>\n",
       "      <th>1</th>\n",
       "      <td>2</td>\n",
       "      <td>Portugal</td>\n",
       "      <td>Porto</td>\n",
       "      <td>Rego</td>\n",
       "      <td>Male</td>\n",
       "      <td>29/11/2007</td>\n",
       "      <td>$7833.82</td>\n",
       "    </tr>\n",
       "    <tr>\n",
       "      <th>2</th>\n",
       "      <td>3</td>\n",
       "      <td>Sweden</td>\n",
       "      <td>Kalmar</td>\n",
       "      <td>Emmaboda</td>\n",
       "      <td>Male</td>\n",
       "      <td>23/06/1984</td>\n",
       "      <td>$5530.85</td>\n",
       "    </tr>\n",
       "    <tr>\n",
       "      <th>3</th>\n",
       "      <td>4</td>\n",
       "      <td>Sweden</td>\n",
       "      <td>Västmanland</td>\n",
       "      <td>Sala</td>\n",
       "      <td>Female</td>\n",
       "      <td>04/11/1983</td>\n",
       "      <td>$2803.76</td>\n",
       "    </tr>\n",
       "    <tr>\n",
       "      <th>4</th>\n",
       "      <td>5</td>\n",
       "      <td>France</td>\n",
       "      <td>Bretagne</td>\n",
       "      <td>Quimperlé</td>\n",
       "      <td>Female</td>\n",
       "      <td>18/11/1990</td>\n",
       "      <td>$2201.87</td>\n",
       "    </tr>\n",
       "  </tbody>\n",
       "</table>\n",
       "</div>"
      ],
      "text/plain": [
       "   id           pais       estado     cidade  genero        data   salario\n",
       "0   1  United States      Alabama     Mobile    Male  10/01/1987  $5407.86\n",
       "1   2       Portugal        Porto       Rego    Male  29/11/2007  $7833.82\n",
       "2   3         Sweden       Kalmar   Emmaboda    Male  23/06/1984  $5530.85\n",
       "3   4         Sweden  Västmanland       Sala  Female  04/11/1983  $2803.76\n",
       "4   5         France     Bretagne  Quimperlé  Female  18/11/1990  $2201.87"
      ]
     },
     "execution_count": 84,
     "metadata": {},
     "output_type": "execute_result"
    }
   ],
   "source": [
    "df = pd.read_csv(\"salario.csv\")\n",
    "df.head()"
   ]
  },
  {
   "cell_type": "markdown",
   "metadata": {},
   "source": [
    "## Unindo os atributos de localidade"
   ]
  },
  {
   "cell_type": "code",
   "execution_count": 85,
   "metadata": {},
   "outputs": [],
   "source": [
    "ids = df.id\n",
    "cities = df.cidade\n",
    "states = df.estado\n",
    "countries = df.pais"
   ]
  },
  {
   "cell_type": "code",
   "execution_count": 86,
   "metadata": {},
   "outputs": [],
   "source": [
    "locality = []\n",
    "for i in range(len(cities)):\n",
    "    locality.append([ids[i], str('{}, {}, {}'.format(cities[i], states[i], countries[i]))])"
   ]
  },
  {
   "cell_type": "code",
   "execution_count": 89,
   "metadata": {},
   "outputs": [
    {
     "data": {
      "text/html": [
       "<div>\n",
       "<style scoped>\n",
       "    .dataframe tbody tr th:only-of-type {\n",
       "        vertical-align: middle;\n",
       "    }\n",
       "\n",
       "    .dataframe tbody tr th {\n",
       "        vertical-align: top;\n",
       "    }\n",
       "\n",
       "    .dataframe thead th {\n",
       "        text-align: right;\n",
       "    }\n",
       "</style>\n",
       "<table border=\"1\" class=\"dataframe\">\n",
       "  <thead>\n",
       "    <tr style=\"text-align: right;\">\n",
       "      <th></th>\n",
       "      <th>id</th>\n",
       "      <th>localidade</th>\n",
       "    </tr>\n",
       "  </thead>\n",
       "  <tbody>\n",
       "    <tr>\n",
       "      <th>0</th>\n",
       "      <td>1</td>\n",
       "      <td>Mobile, Alabama, United States</td>\n",
       "    </tr>\n",
       "    <tr>\n",
       "      <th>1</th>\n",
       "      <td>2</td>\n",
       "      <td>Rego, Porto, Portugal</td>\n",
       "    </tr>\n",
       "    <tr>\n",
       "      <th>2</th>\n",
       "      <td>3</td>\n",
       "      <td>Emmaboda, Kalmar, Sweden</td>\n",
       "    </tr>\n",
       "    <tr>\n",
       "      <th>3</th>\n",
       "      <td>4</td>\n",
       "      <td>Sala, Västmanland, Sweden</td>\n",
       "    </tr>\n",
       "    <tr>\n",
       "      <th>4</th>\n",
       "      <td>5</td>\n",
       "      <td>Quimperlé, Bretagne, France</td>\n",
       "    </tr>\n",
       "  </tbody>\n",
       "</table>\n",
       "</div>"
      ],
      "text/plain": [
       "   id                      localidade\n",
       "0   1  Mobile, Alabama, United States\n",
       "1   2           Rego, Porto, Portugal\n",
       "2   3        Emmaboda, Kalmar, Sweden\n",
       "3   4       Sala, Västmanland, Sweden\n",
       "4   5     Quimperlé, Bretagne, France"
      ]
     },
     "execution_count": 89,
     "metadata": {},
     "output_type": "execute_result"
    }
   ],
   "source": [
    "df_locality = pd.DataFrame(locality, columns=['id', 'localidade'])\n",
    "df_locality.head()"
   ]
  },
  {
   "cell_type": "markdown",
   "metadata": {},
   "source": [
    "## Unindo os dataframes"
   ]
  },
  {
   "cell_type": "code",
   "execution_count": 91,
   "metadata": {},
   "outputs": [
    {
     "data": {
      "text/html": [
       "<div>\n",
       "<style scoped>\n",
       "    .dataframe tbody tr th:only-of-type {\n",
       "        vertical-align: middle;\n",
       "    }\n",
       "\n",
       "    .dataframe tbody tr th {\n",
       "        vertical-align: top;\n",
       "    }\n",
       "\n",
       "    .dataframe thead th {\n",
       "        text-align: right;\n",
       "    }\n",
       "</style>\n",
       "<table border=\"1\" class=\"dataframe\">\n",
       "  <thead>\n",
       "    <tr style=\"text-align: right;\">\n",
       "      <th></th>\n",
       "      <th>id</th>\n",
       "      <th>pais</th>\n",
       "      <th>estado</th>\n",
       "      <th>cidade</th>\n",
       "      <th>genero</th>\n",
       "      <th>data</th>\n",
       "      <th>salario</th>\n",
       "      <th>id</th>\n",
       "      <th>localidade</th>\n",
       "    </tr>\n",
       "  </thead>\n",
       "  <tbody>\n",
       "    <tr>\n",
       "      <th>0</th>\n",
       "      <td>1</td>\n",
       "      <td>United States</td>\n",
       "      <td>Alabama</td>\n",
       "      <td>Mobile</td>\n",
       "      <td>Male</td>\n",
       "      <td>10/01/1987</td>\n",
       "      <td>$5407.86</td>\n",
       "      <td>1</td>\n",
       "      <td>Mobile, Alabama, United States</td>\n",
       "    </tr>\n",
       "    <tr>\n",
       "      <th>1</th>\n",
       "      <td>2</td>\n",
       "      <td>Portugal</td>\n",
       "      <td>Porto</td>\n",
       "      <td>Rego</td>\n",
       "      <td>Male</td>\n",
       "      <td>29/11/2007</td>\n",
       "      <td>$7833.82</td>\n",
       "      <td>2</td>\n",
       "      <td>Rego, Porto, Portugal</td>\n",
       "    </tr>\n",
       "    <tr>\n",
       "      <th>2</th>\n",
       "      <td>3</td>\n",
       "      <td>Sweden</td>\n",
       "      <td>Kalmar</td>\n",
       "      <td>Emmaboda</td>\n",
       "      <td>Male</td>\n",
       "      <td>23/06/1984</td>\n",
       "      <td>$5530.85</td>\n",
       "      <td>3</td>\n",
       "      <td>Emmaboda, Kalmar, Sweden</td>\n",
       "    </tr>\n",
       "    <tr>\n",
       "      <th>3</th>\n",
       "      <td>4</td>\n",
       "      <td>Sweden</td>\n",
       "      <td>Västmanland</td>\n",
       "      <td>Sala</td>\n",
       "      <td>Female</td>\n",
       "      <td>04/11/1983</td>\n",
       "      <td>$2803.76</td>\n",
       "      <td>4</td>\n",
       "      <td>Sala, Västmanland, Sweden</td>\n",
       "    </tr>\n",
       "    <tr>\n",
       "      <th>4</th>\n",
       "      <td>5</td>\n",
       "      <td>France</td>\n",
       "      <td>Bretagne</td>\n",
       "      <td>Quimperlé</td>\n",
       "      <td>Female</td>\n",
       "      <td>18/11/1990</td>\n",
       "      <td>$2201.87</td>\n",
       "      <td>5</td>\n",
       "      <td>Quimperlé, Bretagne, France</td>\n",
       "    </tr>\n",
       "  </tbody>\n",
       "</table>\n",
       "</div>"
      ],
      "text/plain": [
       "   id           pais       estado     cidade  genero        data   salario  \\\n",
       "0   1  United States      Alabama     Mobile    Male  10/01/1987  $5407.86   \n",
       "1   2       Portugal        Porto       Rego    Male  29/11/2007  $7833.82   \n",
       "2   3         Sweden       Kalmar   Emmaboda    Male  23/06/1984  $5530.85   \n",
       "3   4         Sweden  Västmanland       Sala  Female  04/11/1983  $2803.76   \n",
       "4   5         France     Bretagne  Quimperlé  Female  18/11/1990  $2201.87   \n",
       "\n",
       "   id                      localidade  \n",
       "0   1  Mobile, Alabama, United States  \n",
       "1   2           Rego, Porto, Portugal  \n",
       "2   3        Emmaboda, Kalmar, Sweden  \n",
       "3   4       Sala, Västmanland, Sweden  \n",
       "4   5     Quimperlé, Bretagne, France  "
      ]
     },
     "execution_count": 91,
     "metadata": {},
     "output_type": "execute_result"
    }
   ],
   "source": [
    "join_dataset = pd.concat([df, df_locality], axis=1, join='inner')\n",
    "join_dataset.head()"
   ]
  },
  {
   "cell_type": "markdown",
   "metadata": {},
   "source": [
    "## Removendo atributos"
   ]
  },
  {
   "cell_type": "code",
   "execution_count": 94,
   "metadata": {},
   "outputs": [
    {
     "data": {
      "text/html": [
       "<div>\n",
       "<style scoped>\n",
       "    .dataframe tbody tr th:only-of-type {\n",
       "        vertical-align: middle;\n",
       "    }\n",
       "\n",
       "    .dataframe tbody tr th {\n",
       "        vertical-align: top;\n",
       "    }\n",
       "\n",
       "    .dataframe thead th {\n",
       "        text-align: right;\n",
       "    }\n",
       "</style>\n",
       "<table border=\"1\" class=\"dataframe\">\n",
       "  <thead>\n",
       "    <tr style=\"text-align: right;\">\n",
       "      <th></th>\n",
       "      <th>genero</th>\n",
       "      <th>data</th>\n",
       "      <th>localidade</th>\n",
       "    </tr>\n",
       "  </thead>\n",
       "  <tbody>\n",
       "    <tr>\n",
       "      <th>0</th>\n",
       "      <td>Male</td>\n",
       "      <td>10/01/1987</td>\n",
       "      <td>Mobile, Alabama, United States</td>\n",
       "    </tr>\n",
       "    <tr>\n",
       "      <th>1</th>\n",
       "      <td>Male</td>\n",
       "      <td>29/11/2007</td>\n",
       "      <td>Rego, Porto, Portugal</td>\n",
       "    </tr>\n",
       "    <tr>\n",
       "      <th>2</th>\n",
       "      <td>Male</td>\n",
       "      <td>23/06/1984</td>\n",
       "      <td>Emmaboda, Kalmar, Sweden</td>\n",
       "    </tr>\n",
       "    <tr>\n",
       "      <th>3</th>\n",
       "      <td>Female</td>\n",
       "      <td>04/11/1983</td>\n",
       "      <td>Sala, Västmanland, Sweden</td>\n",
       "    </tr>\n",
       "    <tr>\n",
       "      <th>4</th>\n",
       "      <td>Female</td>\n",
       "      <td>18/11/1990</td>\n",
       "      <td>Quimperlé, Bretagne, France</td>\n",
       "    </tr>\n",
       "  </tbody>\n",
       "</table>\n",
       "</div>"
      ],
      "text/plain": [
       "   genero        data                      localidade\n",
       "0    Male  10/01/1987  Mobile, Alabama, United States\n",
       "1    Male  29/11/2007           Rego, Porto, Portugal\n",
       "2    Male  23/06/1984        Emmaboda, Kalmar, Sweden\n",
       "3  Female  04/11/1983       Sala, Västmanland, Sweden\n",
       "4  Female  18/11/1990     Quimperlé, Bretagne, France"
      ]
     },
     "execution_count": 94,
     "metadata": {},
     "output_type": "execute_result"
    }
   ],
   "source": [
    "dataset = join_dataset.drop(columns = ['id', 'pais', 'estado', 'cidade', 'salario'])\n",
    "dataset.head()"
   ]
  },
  {
   "cell_type": "code",
   "execution_count": 134,
   "metadata": {},
   "outputs": [],
   "source": [
    "equivalent_classes = []\n",
    "for i in range(len(dataset)):\n",
    "    register = [dataset.iloc[i]['genero'], dataset.iloc[i]['data'], dataset.iloc[i]['localidade']]\n",
    "    if register not in equivalent_classes:\n",
    "        equivalent_classes.append(register)"
   ]
  },
  {
   "cell_type": "code",
   "execution_count": 136,
   "metadata": {},
   "outputs": [
    {
     "data": {
      "text/plain": [
       "1000"
      ]
     },
     "execution_count": 136,
     "metadata": {},
     "output_type": "execute_result"
    }
   ],
   "source": [
    "len(equivalent_classes)"
   ]
  },
  {
   "cell_type": "code",
   "execution_count": 133,
   "metadata": {},
   "outputs": [
    {
     "name": "stdout",
     "output_type": "stream",
     "text": [
      "['Male', '10/01/1987', 'Mobile, Alabama, United States']\n"
     ]
    }
   ],
   "source": [
    "a = equivalent_classes[0]\n",
    "for i in range(len(dataset)):\n",
    "    register = [dataset.iloc[i]['genero'], dataset.iloc[i]['data'], dataset.iloc[i]['localidade']]\n",
    "    if register == a:\n",
    "        print(register)"
   ]
  },
  {
   "cell_type": "code",
   "execution_count": 120,
   "metadata": {},
   "outputs": [
    {
     "data": {
      "text/plain": [
       "True"
      ]
     },
     "execution_count": 120,
     "metadata": {},
     "output_type": "execute_result"
    }
   ],
   "source": [
    "a = [['asb'], ['bsb']]\n",
    "['asb'] in a"
   ]
  },
  {
   "cell_type": "code",
   "execution_count": null,
   "metadata": {},
   "outputs": [],
   "source": [
    "class Generalizacao:\n",
    "    def __init__(self,nome):\n",
    "        self.filhos = []\n",
    "        self.nome = nome\n",
    "    def adicionarFilho(self,filho):\n",
    "        if\n",
    "    def toString(self):\n",
    "ArvoreDatas = Generalizacao(\"**/**/****\") "
   ]
  },
  {
   "cell_type": "code",
   "execution_count": 43,
   "metadata": {
    "scrolled": true
   },
   "outputs": [
    {
     "data": {
      "text/plain": [
       "['2/2/2011',\n",
       " '2/2/2010',\n",
       " '2/1/2011',\n",
       " '1/2/2010',\n",
       " '2/2/2010',\n",
       " '1/2/2010',\n",
       " '1/1/2011',\n",
       " '1/1/2011',\n",
       " '2/1/2011',\n",
       " '1/2/2010',\n",
       " '2/2/2011',\n",
       " '2/2/2011',\n",
       " '1/2/2011',\n",
       " '2/1/2010',\n",
       " '1/1/2010',\n",
       " '2/1/2011',\n",
       " '1/2/2011',\n",
       " '1/2/2010',\n",
       " '2/1/2010',\n",
       " '2/1/2011',\n",
       " '1/2/2011',\n",
       " '2/1/2011',\n",
       " '1/2/2011',\n",
       " '2/2/2011',\n",
       " '2/1/2011',\n",
       " '2/1/2011',\n",
       " '2/2/2011',\n",
       " '2/2/2011',\n",
       " '2/1/2011',\n",
       " '2/2/2011',\n",
       " '2/2/2010',\n",
       " '2/2/2011',\n",
       " '1/1/2010',\n",
       " '2/2/2011',\n",
       " '1/2/2011',\n",
       " '1/1/2011',\n",
       " '2/2/2010',\n",
       " '2/2/2011',\n",
       " '2/2/2010',\n",
       " '2/2/2011',\n",
       " '1/1/2011',\n",
       " '1/2/2010',\n",
       " '1/2/2011',\n",
       " '2/1/2011',\n",
       " '2/1/2010',\n",
       " '1/2/2011',\n",
       " '1/2/2011',\n",
       " '1/2/2010',\n",
       " '2/1/2011',\n",
       " '2/1/2011']"
      ]
     },
     "execution_count": 43,
     "metadata": {},
     "output_type": "execute_result"
    }
   ],
   "source": [
    "datas = []\n",
    "for i in range(50):\n",
    "    data = \"%d/%d/%d\"%(rdm.randint(1,2),rdm.randint(1,2),rdm.randint(2010,2011))\n",
    "    datas.append(data)\n",
    "datas"
   ]
  },
  {
   "cell_type": "code",
   "execution_count": 45,
   "metadata": {},
   "outputs": [],
   "source": [
    "a = [[data] for data in datas]"
   ]
  },
  {
   "cell_type": "code",
   "execution_count": 46,
   "metadata": {},
   "outputs": [],
   "source": [
    "b = np.array(a)"
   ]
  },
  {
   "cell_type": "code",
   "execution_count": 47,
   "metadata": {},
   "outputs": [
    {
     "data": {
      "text/plain": [
       "pandas.core.frame.DataFrame"
      ]
     },
     "execution_count": 47,
     "metadata": {},
     "output_type": "execute_result"
    }
   ],
   "source": [
    "df = pd.DataFrame(b)\n",
    "type(df)"
   ]
  },
  {
   "cell_type": "code",
   "execution_count": 50,
   "metadata": {},
   "outputs": [
    {
     "ename": "TypeError",
     "evalue": "'method' object is not subscriptable",
     "output_type": "error",
     "traceback": [
      "\u001b[0;31m---------------------------------------------------------------------------\u001b[0m",
      "\u001b[0;31mTypeError\u001b[0m                                 Traceback (most recent call last)",
      "\u001b[0;32m<ipython-input-50-1c99c308273e>\u001b[0m in \u001b[0;36m<module>\u001b[0;34m\u001b[0m\n\u001b[0;32m----> 1\u001b[0;31m \u001b[0mprint\u001b[0m\u001b[0;34m(\u001b[0m\u001b[0mdf\u001b[0m\u001b[0;34m.\u001b[0m\u001b[0mgroupby\u001b[0m\u001b[0;34m[\u001b[0m\u001b[0;36m0\u001b[0m\u001b[0;34m]\u001b[0m\u001b[0;34m.\u001b[0m\u001b[0mcount\u001b[0m\u001b[0;34m(\u001b[0m\u001b[0;34m)\u001b[0m\u001b[0;34m)\u001b[0m\u001b[0;34m\u001b[0m\u001b[0;34m\u001b[0m\u001b[0m\n\u001b[0m\u001b[1;32m      2\u001b[0m \u001b[0;31m#df.groupby(0)[0]\u001b[0m\u001b[0;34m\u001b[0m\u001b[0;34m\u001b[0m\u001b[0;34m\u001b[0m\u001b[0m\n\u001b[1;32m      3\u001b[0m \u001b[0;31m#.to_frame()\u001b[0m\u001b[0;34m\u001b[0m\u001b[0;34m\u001b[0m\u001b[0;34m\u001b[0m\u001b[0m\n\u001b[1;32m      4\u001b[0m \u001b[0;32mfor\u001b[0m \u001b[0mi\u001b[0m \u001b[0;32min\u001b[0m \u001b[0mdf\u001b[0m\u001b[0;34m.\u001b[0m\u001b[0mgroupby\u001b[0m\u001b[0;34m(\u001b[0m\u001b[0;36m0\u001b[0m\u001b[0;34m)\u001b[0m\u001b[0;34m:\u001b[0m\u001b[0;34m\u001b[0m\u001b[0;34m\u001b[0m\u001b[0m\n\u001b[1;32m      5\u001b[0m     \u001b[0mprint\u001b[0m\u001b[0;34m(\u001b[0m\u001b[0mi\u001b[0m\u001b[0;34m)\u001b[0m\u001b[0;34m\u001b[0m\u001b[0;34m\u001b[0m\u001b[0m\n",
      "\u001b[0;31mTypeError\u001b[0m: 'method' object is not subscriptable"
     ]
    }
   ],
   "source": [
    "print(df.groupby[0].count())\n",
    "#df.groupby(0)[0]\n",
    "#.to_frame()\n",
    "for i in df.groupby(0):\n",
    "    print(i)"
   ]
  },
  {
   "cell_type": "code",
   "execution_count": null,
   "metadata": {},
   "outputs": [],
   "source": []
  }
 ],
 "metadata": {
  "kernelspec": {
   "display_name": "Python 3",
   "language": "python",
   "name": "python3"
  },
  "language_info": {
   "codemirror_mode": {
    "name": "ipython",
    "version": 3
   },
   "file_extension": ".py",
   "mimetype": "text/x-python",
   "name": "python",
   "nbconvert_exporter": "python",
   "pygments_lexer": "ipython3",
   "version": "3.6.8"
  }
 },
 "nbformat": 4,
 "nbformat_minor": 2
}
