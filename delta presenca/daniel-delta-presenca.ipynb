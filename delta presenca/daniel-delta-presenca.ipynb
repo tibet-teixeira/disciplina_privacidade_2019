{
 "cells": [
  {
   "cell_type": "code",
   "execution_count": 56,
   "metadata": {},
   "outputs": [],
   "source": [
    "import random as rdm\n",
    "import pandas as pd\n",
    "import numpy as np"
   ]
  },
  {
   "cell_type": "code",
   "execution_count": 57,
   "metadata": {},
   "outputs": [
    {
     "data": {
      "text/html": [
       "<div>\n",
       "<style scoped>\n",
       "    .dataframe tbody tr th:only-of-type {\n",
       "        vertical-align: middle;\n",
       "    }\n",
       "\n",
       "    .dataframe tbody tr th {\n",
       "        vertical-align: top;\n",
       "    }\n",
       "\n",
       "    .dataframe thead th {\n",
       "        text-align: right;\n",
       "    }\n",
       "</style>\n",
       "<table border=\"1\" class=\"dataframe\">\n",
       "  <thead>\n",
       "    <tr style=\"text-align: right;\">\n",
       "      <th></th>\n",
       "      <th>id</th>\n",
       "      <th>genero</th>\n",
       "      <th>data</th>\n",
       "      <th>cidade</th>\n",
       "      <th>estado</th>\n",
       "      <th>doenca</th>\n",
       "    </tr>\n",
       "  </thead>\n",
       "  <tbody>\n",
       "    <tr>\n",
       "      <td>0</td>\n",
       "      <td>1</td>\n",
       "      <td>Female</td>\n",
       "      <td>31/01/2000</td>\n",
       "      <td>Brooklyn</td>\n",
       "      <td>New York</td>\n",
       "      <td>Virose</td>\n",
       "    </tr>\n",
       "    <tr>\n",
       "      <td>1</td>\n",
       "      <td>2</td>\n",
       "      <td>Female</td>\n",
       "      <td>16/10/1999</td>\n",
       "      <td>Topeka</td>\n",
       "      <td>Kansas</td>\n",
       "      <td>Zika</td>\n",
       "    </tr>\n",
       "    <tr>\n",
       "      <td>2</td>\n",
       "      <td>3</td>\n",
       "      <td>Female</td>\n",
       "      <td>10/10/1999</td>\n",
       "      <td>Schenectady</td>\n",
       "      <td>New York</td>\n",
       "      <td>Virose</td>\n",
       "    </tr>\n",
       "    <tr>\n",
       "      <td>3</td>\n",
       "      <td>4</td>\n",
       "      <td>Female</td>\n",
       "      <td>09/01/2000</td>\n",
       "      <td>New York City</td>\n",
       "      <td>New York</td>\n",
       "      <td>Conjuntivite</td>\n",
       "    </tr>\n",
       "    <tr>\n",
       "      <td>4</td>\n",
       "      <td>5</td>\n",
       "      <td>Male</td>\n",
       "      <td>03/11/1999</td>\n",
       "      <td>Syracuse</td>\n",
       "      <td>New York</td>\n",
       "      <td>Conjuntivite</td>\n",
       "    </tr>\n",
       "  </tbody>\n",
       "</table>\n",
       "</div>"
      ],
      "text/plain": [
       "   id  genero        data         cidade    estado        doenca\n",
       "0   1  Female  31/01/2000       Brooklyn  New York        Virose\n",
       "1   2  Female  16/10/1999         Topeka    Kansas          Zika\n",
       "2   3  Female  10/10/1999    Schenectady  New York        Virose\n",
       "3   4  Female  09/01/2000  New York City  New York  Conjuntivite\n",
       "4   5    Male  03/11/1999       Syracuse  New York  Conjuntivite"
      ]
     },
     "execution_count": 57,
     "metadata": {},
     "output_type": "execute_result"
    }
   ],
   "source": [
    "df = pd.read_csv(\"doencas.csv\")\n",
    "df.head()"
   ]
  },
  {
   "cell_type": "markdown",
   "metadata": {},
   "source": [
    "# K-Anonimato"
   ]
  },
  {
   "cell_type": "markdown",
   "metadata": {},
   "source": [
    "## Joining the locality attributes"
   ]
  },
  {
   "cell_type": "code",
   "execution_count": 58,
   "metadata": {},
   "outputs": [],
   "source": [
    "ids = df.id\n",
    "cidades = df.cidade\n",
    "estados = df.estado"
   ]
  },
  {
   "cell_type": "code",
   "execution_count": 59,
   "metadata": {},
   "outputs": [],
   "source": [
    "locality = []\n",
    "for i in range(len(cidades)):\n",
    "    locality.append([ids[i], str('{}, {}'.format(cidades[i], estados[i]))])"
   ]
  },
  {
   "cell_type": "code",
   "execution_count": 60,
   "metadata": {},
   "outputs": [
    {
     "data": {
      "text/html": [
       "<div>\n",
       "<style scoped>\n",
       "    .dataframe tbody tr th:only-of-type {\n",
       "        vertical-align: middle;\n",
       "    }\n",
       "\n",
       "    .dataframe tbody tr th {\n",
       "        vertical-align: top;\n",
       "    }\n",
       "\n",
       "    .dataframe thead th {\n",
       "        text-align: right;\n",
       "    }\n",
       "</style>\n",
       "<table border=\"1\" class=\"dataframe\">\n",
       "  <thead>\n",
       "    <tr style=\"text-align: right;\">\n",
       "      <th></th>\n",
       "      <th>id</th>\n",
       "      <th>localidade</th>\n",
       "    </tr>\n",
       "  </thead>\n",
       "  <tbody>\n",
       "    <tr>\n",
       "      <td>0</td>\n",
       "      <td>1</td>\n",
       "      <td>Brooklyn, New York</td>\n",
       "    </tr>\n",
       "    <tr>\n",
       "      <td>1</td>\n",
       "      <td>2</td>\n",
       "      <td>Topeka, Kansas</td>\n",
       "    </tr>\n",
       "    <tr>\n",
       "      <td>2</td>\n",
       "      <td>3</td>\n",
       "      <td>Schenectady, New York</td>\n",
       "    </tr>\n",
       "    <tr>\n",
       "      <td>3</td>\n",
       "      <td>4</td>\n",
       "      <td>New York City, New York</td>\n",
       "    </tr>\n",
       "    <tr>\n",
       "      <td>4</td>\n",
       "      <td>5</td>\n",
       "      <td>Syracuse, New York</td>\n",
       "    </tr>\n",
       "  </tbody>\n",
       "</table>\n",
       "</div>"
      ],
      "text/plain": [
       "   id               localidade\n",
       "0   1       Brooklyn, New York\n",
       "1   2           Topeka, Kansas\n",
       "2   3    Schenectady, New York\n",
       "3   4  New York City, New York\n",
       "4   5       Syracuse, New York"
      ]
     },
     "execution_count": 60,
     "metadata": {},
     "output_type": "execute_result"
    }
   ],
   "source": [
    "df_locality = pd.DataFrame(locality, columns=['id', 'localidade'])\n",
    "df_locality.head()"
   ]
  },
  {
   "cell_type": "markdown",
   "metadata": {},
   "source": [
    "## Joining the dataframes"
   ]
  },
  {
   "cell_type": "code",
   "execution_count": 61,
   "metadata": {},
   "outputs": [
    {
     "data": {
      "text/html": [
       "<div>\n",
       "<style scoped>\n",
       "    .dataframe tbody tr th:only-of-type {\n",
       "        vertical-align: middle;\n",
       "    }\n",
       "\n",
       "    .dataframe tbody tr th {\n",
       "        vertical-align: top;\n",
       "    }\n",
       "\n",
       "    .dataframe thead th {\n",
       "        text-align: right;\n",
       "    }\n",
       "</style>\n",
       "<table border=\"1\" class=\"dataframe\">\n",
       "  <thead>\n",
       "    <tr style=\"text-align: right;\">\n",
       "      <th></th>\n",
       "      <th>id</th>\n",
       "      <th>genero</th>\n",
       "      <th>data</th>\n",
       "      <th>cidade</th>\n",
       "      <th>estado</th>\n",
       "      <th>doenca</th>\n",
       "      <th>id</th>\n",
       "      <th>localidade</th>\n",
       "    </tr>\n",
       "  </thead>\n",
       "  <tbody>\n",
       "    <tr>\n",
       "      <td>0</td>\n",
       "      <td>1</td>\n",
       "      <td>Female</td>\n",
       "      <td>31/01/2000</td>\n",
       "      <td>Brooklyn</td>\n",
       "      <td>New York</td>\n",
       "      <td>Virose</td>\n",
       "      <td>1</td>\n",
       "      <td>Brooklyn, New York</td>\n",
       "    </tr>\n",
       "    <tr>\n",
       "      <td>1</td>\n",
       "      <td>2</td>\n",
       "      <td>Female</td>\n",
       "      <td>16/10/1999</td>\n",
       "      <td>Topeka</td>\n",
       "      <td>Kansas</td>\n",
       "      <td>Zika</td>\n",
       "      <td>2</td>\n",
       "      <td>Topeka, Kansas</td>\n",
       "    </tr>\n",
       "    <tr>\n",
       "      <td>2</td>\n",
       "      <td>3</td>\n",
       "      <td>Female</td>\n",
       "      <td>10/10/1999</td>\n",
       "      <td>Schenectady</td>\n",
       "      <td>New York</td>\n",
       "      <td>Virose</td>\n",
       "      <td>3</td>\n",
       "      <td>Schenectady, New York</td>\n",
       "    </tr>\n",
       "    <tr>\n",
       "      <td>3</td>\n",
       "      <td>4</td>\n",
       "      <td>Female</td>\n",
       "      <td>09/01/2000</td>\n",
       "      <td>New York City</td>\n",
       "      <td>New York</td>\n",
       "      <td>Conjuntivite</td>\n",
       "      <td>4</td>\n",
       "      <td>New York City, New York</td>\n",
       "    </tr>\n",
       "    <tr>\n",
       "      <td>4</td>\n",
       "      <td>5</td>\n",
       "      <td>Male</td>\n",
       "      <td>03/11/1999</td>\n",
       "      <td>Syracuse</td>\n",
       "      <td>New York</td>\n",
       "      <td>Conjuntivite</td>\n",
       "      <td>5</td>\n",
       "      <td>Syracuse, New York</td>\n",
       "    </tr>\n",
       "  </tbody>\n",
       "</table>\n",
       "</div>"
      ],
      "text/plain": [
       "   id  genero        data         cidade    estado        doenca  id  \\\n",
       "0   1  Female  31/01/2000       Brooklyn  New York        Virose   1   \n",
       "1   2  Female  16/10/1999         Topeka    Kansas          Zika   2   \n",
       "2   3  Female  10/10/1999    Schenectady  New York        Virose   3   \n",
       "3   4  Female  09/01/2000  New York City  New York  Conjuntivite   4   \n",
       "4   5    Male  03/11/1999       Syracuse  New York  Conjuntivite   5   \n",
       "\n",
       "                localidade  \n",
       "0       Brooklyn, New York  \n",
       "1           Topeka, Kansas  \n",
       "2    Schenectady, New York  \n",
       "3  New York City, New York  \n",
       "4       Syracuse, New York  "
      ]
     },
     "execution_count": 61,
     "metadata": {},
     "output_type": "execute_result"
    }
   ],
   "source": [
    "join_dataset = pd.concat([df, df_locality], axis=1, join='inner')\n",
    "join_dataset.head()"
   ]
  },
  {
   "cell_type": "markdown",
   "metadata": {},
   "source": [
    "## Removing attributes"
   ]
  },
  {
   "cell_type": "code",
   "execution_count": 62,
   "metadata": {},
   "outputs": [
    {
     "data": {
      "text/html": [
       "<div>\n",
       "<style scoped>\n",
       "    .dataframe tbody tr th:only-of-type {\n",
       "        vertical-align: middle;\n",
       "    }\n",
       "\n",
       "    .dataframe tbody tr th {\n",
       "        vertical-align: top;\n",
       "    }\n",
       "\n",
       "    .dataframe thead th {\n",
       "        text-align: right;\n",
       "    }\n",
       "</style>\n",
       "<table border=\"1\" class=\"dataframe\">\n",
       "  <thead>\n",
       "    <tr style=\"text-align: right;\">\n",
       "      <th></th>\n",
       "      <th>genero</th>\n",
       "      <th>data</th>\n",
       "      <th>doenca</th>\n",
       "      <th>localidade</th>\n",
       "    </tr>\n",
       "  </thead>\n",
       "  <tbody>\n",
       "    <tr>\n",
       "      <td>count</td>\n",
       "      <td>400</td>\n",
       "      <td>400</td>\n",
       "      <td>400</td>\n",
       "      <td>400</td>\n",
       "    </tr>\n",
       "    <tr>\n",
       "      <td>unique</td>\n",
       "      <td>2</td>\n",
       "      <td>160</td>\n",
       "      <td>5</td>\n",
       "      <td>24</td>\n",
       "    </tr>\n",
       "    <tr>\n",
       "      <td>top</td>\n",
       "      <td>Male</td>\n",
       "      <td>22/10/1999</td>\n",
       "      <td>Dengue</td>\n",
       "      <td>New York City, New York</td>\n",
       "    </tr>\n",
       "    <tr>\n",
       "      <td>freq</td>\n",
       "      <td>204</td>\n",
       "      <td>6</td>\n",
       "      <td>87</td>\n",
       "      <td>103</td>\n",
       "    </tr>\n",
       "  </tbody>\n",
       "</table>\n",
       "</div>"
      ],
      "text/plain": [
       "       genero        data  doenca               localidade\n",
       "count     400         400     400                      400\n",
       "unique      2         160       5                       24\n",
       "top      Male  22/10/1999  Dengue  New York City, New York\n",
       "freq      204           6      87                      103"
      ]
     },
     "execution_count": 62,
     "metadata": {},
     "output_type": "execute_result"
    }
   ],
   "source": [
    "dataset = join_dataset.drop(columns = ['id', 'estado', 'cidade'])\n",
    "dataset.describe()"
   ]
  },
  {
   "cell_type": "markdown",
   "metadata": {},
   "source": [
    "## Date generalization function"
   ]
  },
  {
   "cell_type": "code",
   "execution_count": 63,
   "metadata": {},
   "outputs": [],
   "source": [
    "def date_generalization(dataset, level):\n",
    "    if level == 1:\n",
    "        # date '**/MM/YYYY'\n",
    "        for data in range(len(dataset)):\n",
    "            dataset.iloc[data]['data'] = str('**' + dataset.iloc[data]['data'][2:10])\n",
    "    elif level == 2:\n",
    "        # date '**/**/YYYY'\n",
    "        for data in range(len(dataset)):\n",
    "            dataset.iloc[data]['data'] = str('**/**' + dataset.iloc[data]['data'][5:10])\n",
    "    elif level == 3:\n",
    "        # date'**/**/****'\n",
    "        for data in range(len(dataset)):\n",
    "            dataset.iloc[data]['data'] = str('**/**/****')\n",
    "        \n",
    "    return dataset"
   ]
  },
  {
   "cell_type": "code",
   "execution_count": 64,
   "metadata": {},
   "outputs": [],
   "source": [
    "def locality_generalization(dataset, level):\n",
    "    if level == 0:\n",
    "        # locality 'city'\n",
    "        for data in range(len(dataset)):\n",
    "            place = dataset.iloc[data]['localidade'].split(',')\n",
    "            dataset.iloc[data]['localidade'] = place[0] + \",\"+place[1]\n",
    "    elif level == 1:\n",
    "        # locality 'state,'\n",
    "        for data in range(len(dataset)):\n",
    "            place = dataset.iloc[data]['localidade'].split(',')\n",
    "            dataset.iloc[data]['localidade'] = \"**,\" + place[1]\n",
    "    elif level == 2:\n",
    "        # locality '*'\n",
    "        for data in range(len(dataset)):\n",
    "            dataset.iloc[data]['localidade'] = '*'\n",
    "        \n",
    "    return dataset"
   ]
  },
  {
   "cell_type": "code",
   "execution_count": 65,
   "metadata": {},
   "outputs": [],
   "source": [
    "def gender_generalization(dataset, level):\n",
    "    if level == 1:\n",
    "        # gender '*'\n",
    "        for data in range(len(dataset)):\n",
    "            dataset.iloc[data]['genero'] = '*'\n",
    "            \n",
    "    return dataset"
   ]
  },
  {
   "cell_type": "markdown",
   "metadata": {},
   "source": [
    "## Precision metric\n",
    "\n",
    "$precision (D, Na, h, HGVA) = 1 - \\frac{\\sum_{i=1}^{Na} \\sum_{j=1}^{|D|} \\frac{h}{HGVA_i}}{|D| * Na}\n",
    "$\n",
    "\n",
    "- D: dataset\n",
    "- Na: number of semi-identifier attributes\n",
    "- h: height of attribute value generalization hierarchy Ai after generalization\n",
    "- |HGVAi|: maximum height of hierarchy"
   ]
  },
  {
   "cell_type": "code",
   "execution_count": 66,
   "metadata": {},
   "outputs": [],
   "source": [
    "def precision(D, Na, HGVA):\n",
    "    h = []\n",
    "    summation = 0\n",
    "    for j in range(len(D)):\n",
    "        data = D.iloc[j][\"data\"].count('*')\n",
    "        localidade = D.iloc[j][\"localidade\"].count('*')\n",
    "        genero = D.iloc[j][\"genero\"].count('*')\n",
    "        \n",
    "        h_data = 0\n",
    "        if data == 2:\n",
    "            h_data = 1\n",
    "        elif data == 4:\n",
    "            h_data = 2\n",
    "        elif data == 8:\n",
    "            h_data = 3\n",
    "            \n",
    "        h_localidade = 0\n",
    "        if   localidade == 1:\n",
    "            h_localidade = 2\n",
    "        elif localidade == 2:\n",
    "            h_localidade = 1\n",
    "            \n",
    "        h_genero = 0\n",
    "        if genero == 1:\n",
    "            h_genero = 1\n",
    "            \n",
    "        h.append([h_data, h_genero, h_localidade])\n",
    "    \n",
    "    for i in range(Na):\n",
    "        for j in range(len(D)):\n",
    "            summation += (h[j][i] / (HGVA[i]))\n",
    "    \n",
    "    return 1 - (summation / (len(D) * Na))"
   ]
  },
  {
   "cell_type": "markdown",
   "metadata": {},
   "source": [
    "# Tree generalization"
   ]
  },
  {
   "cell_type": "code",
   "execution_count": 67,
   "metadata": {},
   "outputs": [],
   "source": [
    "def treeGeneralization():\n",
    "    # data, genero, localidade\n",
    "    return [(a,b,c) for a in range(4) for b in range(2) for c in range(3) ]"
   ]
  },
  {
   "cell_type": "markdown",
   "metadata": {},
   "source": [
    "# Generating anonymization"
   ]
  },
  {
   "cell_type": "code",
   "execution_count": 69,
   "metadata": {},
   "outputs": [
    {
     "name": "stdout",
     "output_type": "stream",
     "text": [
      "(0, 0, 0) => 1.0\n",
      "(0, 0, 1) => 0.8333\n",
      "(0, 0, 2) => 0.6667\n",
      "(0, 1, 0) => 0.6667\n",
      "(0, 1, 1) => 0.5\n",
      "(0, 1, 2) => 0.3333\n",
      "(1, 0, 0) => 0.8889\n",
      "(1, 0, 1) => 0.7222\n",
      "(1, 0, 2) => 0.5556\n",
      "(1, 1, 0) => 0.5556\n",
      "(1, 1, 1) => 0.3889\n",
      "(1, 1, 2) => 0.2222\n",
      "(2, 0, 0) => 0.7778\n",
      "(2, 0, 1) => 0.6111\n",
      "(2, 0, 2) => 0.4444\n",
      "(2, 1, 0) => 0.4444\n",
      "(2, 1, 1) => 0.2778\n",
      "(2, 1, 2) => 0.1111\n",
      "(3, 0, 0) => 0.6667\n",
      "(3, 0, 1) => 0.5\n",
      "(3, 0, 2) => 0.3333\n",
      "(3, 1, 0) => 0.3333\n",
      "(3, 1, 1) => 0.1667\n",
      "(3, 1, 2) => 0.0\n"
     ]
    }
   ],
   "source": [
    "def deltaPresenca(dataset, publico, minimo, maximo):\n",
    "    \n",
    "    for generalizacao_atual in treeGeneralization():\n",
    "        \n",
    "        ds = date_generalization(dataset.copy(), generalizacao_atual[0])\n",
    "        ds = gender_generalization(ds, generalizacao_atual[1])\n",
    "        ds = locality_generalization(ds, generalizacao_atual[2])\n",
    "        \n",
    "        ###\n",
    "        # Colocar aqui a função que verifica se o dataset está entre o minimo e maximo\n",
    "        if (True):\n",
    "            ###\n",
    "            # Salvar dataframe\n",
    "            calculate_precision = float(\"{0:.4f}\".format(precision(ds, 3, [3, 1, 2])))\n",
    "            print(\"{} => {}\".format(generalizacao_atual,calculate_precision))\n",
    "\n",
    "deltaPresenca(dataset.copy(), [], 0,0)"
   ]
  }
 ],
 "metadata": {
  "kernelspec": {
   "display_name": "Python 3",
   "language": "python",
   "name": "python3"
  },
  "language_info": {
   "codemirror_mode": {
    "name": "ipython",
    "version": 3
   },
   "file_extension": ".py",
   "mimetype": "text/x-python",
   "name": "python",
   "nbconvert_exporter": "python",
   "pygments_lexer": "ipython3",
   "version": "3.6.9"
  }
 },
 "nbformat": 4,
 "nbformat_minor": 2
}
